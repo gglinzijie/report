{
 "cells": [
  {
   "cell_type": "code",
   "execution_count": 177,
   "metadata": {},
   "outputs": [],
   "source": [
    "# Simulation result\n",
    "x<-as.matrix(read.table(\"2.3_geno.txt\"))\n",
    "pheno<-as.numeric(unlist(read.table(\"2.3_pheno.txt\")))\n",
    "tbvp<-as.numeric(unlist(read.table(\"2.3_tbvp.txt\")))"
   ]
  },
  {
   "cell_type": "code",
   "execution_count": 178,
   "metadata": {},
   "outputs": [
    {
     "data": {
      "text/plain": [
       "[1] '4.6'"
      ]
     },
     "metadata": {},
     "output_type": "display_data"
    }
   ],
   "source": [
    "##load packages\n",
    "library(doParallel)\n",
    "library(foreach)\n",
    "cl<-makeCluster(8) \n",
    "repeats <- 10\n",
    "n.fold <- 5 \n",
    "acc<-list()\n",
    "library(rrBLUP)\n",
    "packageVersion(\"rrBLUP\") "
   ]
  },
  {
   "cell_type": "code",
   "execution_count": 179,
   "metadata": {},
   "outputs": [],
   "source": [
    "#function for calculating the accuracy of GP with varying size of reference population\n",
    "A <- A.mat(x, n.core=8)\n",
    "row.names(A)=1:3000;colnames(A)=1:3000\n",
    "data <- data.frame(tbcw=pheno,tbvp=tbvp,gid=1:3000) \n",
    "n.sample<-500\n",
    "set.seed(100)\n",
    "id<-sample(1:dim(x)[1],n.sample) \n",
    "bcw_test <- data\n",
    "bcw_test$tbcw[-id] <- NA\n",
    "res <- kin.blup(bcw_test, K=A, geno=\"gid\", pheno=\"tbcw\")"
   ]
  },
  {
   "cell_type": "code",
   "execution_count": 180,
   "metadata": {},
   "outputs": [
    {
     "data": {
      "text/html": [
       "0.802338443541892"
      ],
      "text/latex": [
       "0.802338443541892"
      ],
      "text/markdown": [
       "0.802338443541892"
      ],
      "text/plain": [
       "[1] 0.8023384"
      ]
     },
     "metadata": {},
     "output_type": "display_data"
    },
    {
     "data": {
      "text/html": [
       "0.856313999442186"
      ],
      "text/latex": [
       "0.856313999442186"
      ],
      "text/markdown": [
       "0.856313999442186"
      ],
      "text/plain": [
       "[1] 0.856314"
      ]
     },
     "metadata": {},
     "output_type": "display_data"
    },
    {
     "data": {
      "text/html": [
       "0.921546847752316"
      ],
      "text/latex": [
       "0.921546847752316"
      ],
      "text/markdown": [
       "0.921546847752316"
      ],
      "text/plain": [
       "[1] 0.9215468"
      ]
     },
     "metadata": {},
     "output_type": "display_data"
    },
    {
     "data": {
      "text/html": [
       "0.586566898597807"
      ],
      "text/latex": [
       "0.586566898597807"
      ],
      "text/markdown": [
       "0.586566898597807"
      ],
      "text/plain": [
       "[1] 0.5865669"
      ]
     },
     "metadata": {},
     "output_type": "display_data"
    }
   ],
   "source": [
    "cor(data$tbcw[id],data$tbvp[id])\n",
    "cor(res$pred[id],data$tbvp[id])\n",
    "cor(data$tbcw[id],res$pred[id])\n",
    "cor(data$tbcw[-id],res$pred[-id])"
   ]
  },
  {
   "cell_type": "code",
   "execution_count": 181,
   "metadata": {},
   "outputs": [],
   "source": [
    "n.sample<-1000\n",
    "set.seed(100)\n",
    "id2<-sample(1:dim(x)[1],n.sample) \n",
    "bcw_test <- data\n",
    "bcw_test$tbcw[-id2] <- NA\n",
    "res2 <- kin.blup(bcw_test, K=A, geno=\"gid\", pheno=\"tbcw\")"
   ]
  },
  {
   "cell_type": "code",
   "execution_count": 182,
   "metadata": {},
   "outputs": [
    {
     "data": {
      "text/html": [
       "0.785359366066902"
      ],
      "text/latex": [
       "0.785359366066902"
      ],
      "text/markdown": [
       "0.785359366066902"
      ],
      "text/plain": [
       "[1] 0.7853594"
      ]
     },
     "metadata": {},
     "output_type": "display_data"
    },
    {
     "data": {
      "text/html": [
       "0.853198376166583"
      ],
      "text/latex": [
       "0.853198376166583"
      ],
      "text/markdown": [
       "0.853198376166583"
      ],
      "text/plain": [
       "[1] 0.8531984"
      ]
     },
     "metadata": {},
     "output_type": "display_data"
    },
    {
     "data": {
      "text/html": [
       "0.872521755981923"
      ],
      "text/latex": [
       "0.872521755981923"
      ],
      "text/markdown": [
       "0.872521755981923"
      ],
      "text/plain": [
       "[1] 0.8725218"
      ]
     },
     "metadata": {},
     "output_type": "display_data"
    },
    {
     "data": {
      "text/html": [
       "0.621449093282762"
      ],
      "text/latex": [
       "0.621449093282762"
      ],
      "text/markdown": [
       "0.621449093282762"
      ],
      "text/plain": [
       "[1] 0.6214491"
      ]
     },
     "metadata": {},
     "output_type": "display_data"
    }
   ],
   "source": [
    "cor(data$tbcw[id2],data$tbvp[id2])\n",
    "cor(res2$pred[id2],data$tbvp[id2])\n",
    "cor(data$tbcw[id2],res2$pred[id2])\n",
    "cor(data$tbcw[-id2],res2$pred[-id2])"
   ]
  },
  {
   "cell_type": "code",
   "execution_count": 183,
   "metadata": {},
   "outputs": [],
   "source": [
    "library(\"ggplot2\")"
   ]
  },
  {
   "cell_type": "code",
   "execution_count": 184,
   "metadata": {},
   "outputs": [],
   "source": [
    "m1<-data.frame(x=data$tbcw[id],y=data$tbvp[id],pred=res$pred[id])\n",
    "m2<-data.frame(x=data$tbcw[id2],y=data$tbvp[id2],pred=res2$pred[id2])"
   ]
  },
  {
   "cell_type": "code",
   "execution_count": 188,
   "metadata": {},
   "outputs": [],
   "source": [
    "r500<-ggplot(m1, aes(x=x, y=y)) + \n",
    "      geom_point(shape=20)+\n",
    "      geom_smooth(method=lm,se=FALSE,color=\"red\")+\n",
    "      labs(x = \"Phenotypes\",y=\"TBV\")+\n",
    "      xlim(-10,60)+\n",
    "      ylim(0,50)+\n",
    "      stat_cor()\n",
    "\n",
    "r1000<-ggplot(m2, aes(x=x, y=y)) +\n",
    "      geom_point(shape=20)+\n",
    "      geom_smooth(method=lm,se=FALSE,color=\"red\")+\n",
    "      labs(x = \"Phenotypes\",y=\"TBV\")+\n",
    "      xlim(-10,60)+\n",
    "      ylim(0,50)+\n",
    "      stat_cor()\n"
   ]
  },
  {
   "cell_type": "code",
   "execution_count": 189,
   "metadata": {},
   "outputs": [],
   "source": [
    "a<-ggplot(m1, aes(x=pred, y=y)) + \n",
    "      geom_point(shape=20)+\n",
    "      geom_smooth(method=lm,se=FALSE,color=\"red\")+\n",
    "      labs(x = \"GEBV\",y=\"TBV\")+\n",
    "      xlim(-10,60)+\n",
    "      ylim(0,50)+\n",
    "      stat_cor()\n",
    "\n",
    "\n",
    "b<-ggplot(m2, aes(x=pred, y=y)) +\n",
    "      geom_point(shape=20)+\n",
    "      geom_smooth(method=lm,se=FALSE,color=\"red\")+\n",
    "      labs(x = \"GEBV\",y=\"TBV\")+\n",
    "      xlim(-10,60)+\n",
    "      ylim(0,50)+\n",
    "      stat_cor()\n",
    "\n"
   ]
  },
  {
   "cell_type": "code",
   "execution_count": 166,
   "metadata": {
    "scrolled": true
   },
   "outputs": [
    {
     "data": {},
     "metadata": {},
     "output_type": "display_data"
    },
    {
     "data": {
      "text/html": [
       "<strong>png:</strong> 2"
      ],
      "text/latex": [
       "\\textbf{png:} 2"
      ],
      "text/markdown": [
       "**png:** 2"
      ],
      "text/plain": [
       "png \n",
       "  2 "
      ]
     },
     "metadata": {},
     "output_type": "display_data"
    },
    {
     "data": {},
     "metadata": {},
     "output_type": "display_data"
    },
    {
     "data": {
      "text/html": [
       "<strong>png:</strong> 2"
      ],
      "text/latex": [
       "\\textbf{png:} 2"
      ],
      "text/markdown": [
       "**png:** 2"
      ],
      "text/plain": [
       "png \n",
       "  2 "
      ]
     },
     "metadata": {},
     "output_type": "display_data"
    }
   ],
   "source": [
    "png(\"r500.png\",width=8, height=8, units=\"in\", res=300)\n",
    "r500\n",
    "dev.off()\n",
    "png(\"r1000.png\",width=8, height=8, units=\"in\", res=300)\n",
    "r1000\n",
    "dev.off()"
   ]
  },
  {
   "cell_type": "code",
   "execution_count": 196,
   "metadata": {},
   "outputs": [],
   "source": [
    "# Simulation result\n",
    "x<-as.matrix(read.table(\"lowh2_geno.txt\"))\n",
    "pheno<-as.numeric(unlist(read.table(\"lowh2_pheno.txt\")))\n",
    "tbvp<-as.numeric(unlist(read.table(\"lowh2_tbvp.txt\")))"
   ]
  },
  {
   "cell_type": "code",
   "execution_count": 197,
   "metadata": {},
   "outputs": [],
   "source": [
    "#function for calculating the accuracy of GP with varying size of reference population\n",
    "A <- A.mat(x, n.core=8)\n",
    "row.names(A)=1:3000;colnames(A)=1:3000\n",
    "data <- data.frame(tbcw=pheno,tbvp=tbvp,gid=1:3000) \n",
    "n.sample<-500\n",
    "set.seed(100)\n",
    "id<-sample(1:dim(x)[1],n.sample) \n",
    "bcw_test <- data\n",
    "bcw_test$tbcw[-id] <- NA\n",
    "res <- kin.blup(bcw_test, K=A, geno=\"gid\", pheno=\"tbcw\")"
   ]
  },
  {
   "cell_type": "code",
   "execution_count": 198,
   "metadata": {},
   "outputs": [
    {
     "data": {
      "text/html": [
       "0.572634541902962"
      ],
      "text/latex": [
       "0.572634541902962"
      ],
      "text/markdown": [
       "0.572634541902962"
      ],
      "text/plain": [
       "[1] 0.5726345"
      ]
     },
     "metadata": {},
     "output_type": "display_data"
    },
    {
     "data": {
      "text/html": [
       "0.773203951038528"
      ],
      "text/latex": [
       "0.773203951038528"
      ],
      "text/markdown": [
       "0.773203951038528"
      ],
      "text/plain": [
       "[1] 0.773204"
      ]
     },
     "metadata": {},
     "output_type": "display_data"
    },
    {
     "data": {
      "text/html": [
       "0.74928112018561"
      ],
      "text/latex": [
       "0.74928112018561"
      ],
      "text/markdown": [
       "0.74928112018561"
      ],
      "text/plain": [
       "[1] 0.7492811"
      ]
     },
     "metadata": {},
     "output_type": "display_data"
    },
    {
     "data": {
      "text/html": [
       "0.37303612951377"
      ],
      "text/latex": [
       "0.37303612951377"
      ],
      "text/markdown": [
       "0.37303612951377"
      ],
      "text/plain": [
       "[1] 0.3730361"
      ]
     },
     "metadata": {},
     "output_type": "display_data"
    }
   ],
   "source": [
    "cor(data$tbcw[id],data$tbvp[id])\n",
    "cor(res$pred[id],data$tbvp[id])\n",
    "cor(data$tbcw[id],res$pred[id])\n",
    "cor(data$tbcw[-id],res$pred[-id])"
   ]
  },
  {
   "cell_type": "code",
   "execution_count": 199,
   "metadata": {},
   "outputs": [],
   "source": [
    "n.sample<-1000\n",
    "set.seed(100)\n",
    "id2<-sample(1:dim(x)[1],n.sample) \n",
    "bcw_test <- data\n",
    "bcw_test$tbcw[-id2] <- NA\n",
    "res2 <- kin.blup(bcw_test, K=A, geno=\"gid\", pheno=\"tbcw\")"
   ]
  },
  {
   "cell_type": "code",
   "execution_count": 200,
   "metadata": {},
   "outputs": [
    {
     "data": {
      "text/html": [
       "0.567224935356074"
      ],
      "text/latex": [
       "0.567224935356074"
      ],
      "text/markdown": [
       "0.567224935356074"
      ],
      "text/plain": [
       "[1] 0.5672249"
      ]
     },
     "metadata": {},
     "output_type": "display_data"
    },
    {
     "data": {
      "text/html": [
       "0.761865584215784"
      ],
      "text/latex": [
       "0.761865584215784"
      ],
      "text/markdown": [
       "0.761865584215784"
      ],
      "text/plain": [
       "[1] 0.7618656"
      ]
     },
     "metadata": {},
     "output_type": "display_data"
    },
    {
     "data": {
      "text/html": [
       "0.777385300669978"
      ],
      "text/latex": [
       "0.777385300669978"
      ],
      "text/markdown": [
       "0.777385300669978"
      ],
      "text/plain": [
       "[1] 0.7773853"
      ]
     },
     "metadata": {},
     "output_type": "display_data"
    },
    {
     "data": {
      "text/html": [
       "0.370071676814877"
      ],
      "text/latex": [
       "0.370071676814877"
      ],
      "text/markdown": [
       "0.370071676814877"
      ],
      "text/plain": [
       "[1] 0.3700717"
      ]
     },
     "metadata": {},
     "output_type": "display_data"
    }
   ],
   "source": [
    "cor(data$tbcw[id2],data$tbvp[id2])\n",
    "cor(res2$pred[id2],data$tbvp[id2])\n",
    "cor(data$tbcw[id2],res2$pred[id2])\n",
    "cor(data$tbcw[-id2],res2$pred[-id2])"
   ]
  },
  {
   "cell_type": "code",
   "execution_count": 201,
   "metadata": {},
   "outputs": [],
   "source": [
    "m3<-data.frame(x=data$tbcw[id],y=data$tbvp[id],pred=res$pred[id])\n",
    "m4<-data.frame(x=data$tbcw[id2],y=data$tbvp[id2],pred=res2$pred[id2])"
   ]
  },
  {
   "cell_type": "code",
   "execution_count": 202,
   "metadata": {},
   "outputs": [],
   "source": [
    "r500_0.3<-ggplot(m3, aes(x=x, y=y)) + \n",
    "      geom_point(shape=20)+\n",
    "      geom_smooth(method=lm,se=FALSE,color=\"red\")+\n",
    "      labs(x = \"Phenotypes\",y=\"TBV\")+\n",
    "      xlim(-10,60)+\n",
    "      ylim(0,50)+\n",
    "      stat_cor()\n",
    "\n",
    "r1000_0.3<-ggplot(m4, aes(x=x, y=y)) +\n",
    "      geom_point(shape=20)+\n",
    "      geom_smooth(method=lm,se=FALSE,color=\"red\")+\n",
    "      labs(x = \"Phenotypes\",y=\"TBV\")+   \n",
    "      xlim(-10,60)+\n",
    "      ylim(0,50)+\n",
    "      stat_cor()"
   ]
  },
  {
   "cell_type": "code",
   "execution_count": 203,
   "metadata": {},
   "outputs": [],
   "source": [
    "c<-ggplot(m3, aes(x=pred, y=y)) + \n",
    "      geom_point(shape=20)+\n",
    "      geom_smooth(method=lm,se=FALSE,color=\"red\")+\n",
    "      labs(x = \"GEBV\",y=\"TBV\")+\n",
    "      xlim(-10,60)+\n",
    "      ylim(0,50)+\n",
    "      stat_cor()\n",
    "\n",
    "d<-ggplot(m4, aes(x=pred, y=y)) +\n",
    "      geom_point(shape=20)+\n",
    "      geom_smooth(method=lm,se=FALSE,color=\"red\")+\n",
    "      labs(x = \"GEBV\",y=\"TBV\")+\n",
    "      xlim(-10,60)+\n",
    "      ylim(0,50)+\n",
    "      stat_cor()\n"
   ]
  },
  {
   "cell_type": "code",
   "execution_count": 204,
   "metadata": {},
   "outputs": [
    {
     "name": "stderr",
     "output_type": "stream",
     "text": [
      "Warning message:\n",
      "\"Removed 1 rows containing non-finite values (stat_smooth).\"Warning message:\n",
      "\"Removed 1 rows containing non-finite values (stat_cor).\"Warning message:\n",
      "\"Removed 1 rows containing missing values (geom_point).\"Warning message:\n",
      "\"Removed 2 rows containing non-finite values (stat_smooth).\"Warning message:\n",
      "\"Removed 2 rows containing non-finite values (stat_cor).\"Warning message:\n",
      "\"Removed 2 rows containing missing values (geom_point).\""
     ]
    },
    {
     "data": {},
     "metadata": {},
     "output_type": "display_data"
    },
    {
     "data": {
      "image/png": "[encoded data removed]",
      "text/plain": [
       "plot without title"
      ]
     },
     "metadata": {},
     "output_type": "display_data"
    }
   ],
   "source": [
    "library(\"ggpubr\")\n",
    "ggarrange(r500,r1000, r500_0.3,r1000_0.3, \n",
    "          labels = c(\"A\",\"B\",\"C\",\"D\"),\n",
    "          ncol = 2, nrow = 2)"
   ]
  },
  {
   "cell_type": "code",
   "execution_count": 205,
   "metadata": {},
   "outputs": [
    {
     "data": {},
     "metadata": {},
     "output_type": "display_data"
    },
    {
     "data": {
      "image/png": "[encoded data removed]",
      "text/plain": [
       "plot without title"
      ]
     },
     "metadata": {},
     "output_type": "display_data"
    }
   ],
   "source": [
    "ggarrange(a,b,c,d,\n",
    "          labels = c(\"A\",\"B\",\"C\",\"D\"),\n",
    "          ncol = 2, nrow = 2)"
   ]
  },
  {
   "cell_type": "code",
   "execution_count": null,
   "metadata": {},
   "outputs": [],
   "source": []
  }
 ],
 "metadata": {
  "kernelspec": {
   "display_name": "R",
   "language": "R",
   "name": "ir"
  },
  "language_info": {
   "codemirror_mode": "r",
   "file_extension": ".r",
   "mimetype": "text/x-r-source",
   "name": "R",
   "pygments_lexer": "r",
   "version": "3.5.1"
  }
 },
 "nbformat": 4,
 "nbformat_minor": 2
}
