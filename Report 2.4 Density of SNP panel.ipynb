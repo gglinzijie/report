{
 "cells": [
  {
   "cell_type": "code",
   "execution_count": 1,
   "metadata": {},
   "outputs": [
    {
     "data": {
      "text/html": [
       "'windows'"
      ],
      "text/latex": [
       "'windows'"
      ],
      "text/markdown": [
       "'windows'"
      ],
      "text/plain": [
       "[1] \"windows\""
      ]
     },
     "metadata": {},
     "output_type": "display_data"
    },
    {
     "data": {
      "text/html": [
       "'R version 3.5.1 (2018-07-02)'"
      ],
      "text/latex": [
       "'R version 3.5.1 (2018-07-02)'"
      ],
      "text/markdown": [
       "'R version 3.5.1 (2018-07-02)'"
      ],
      "text/plain": [
       "[1] \"R version 3.5.1 (2018-07-02)\""
      ]
     },
     "metadata": {},
     "output_type": "display_data"
    },
    {
     "data": {
      "text/html": [
       "'Intel(R) Core(TM) i7-7700HQ CPU @ 2.80GHz'"
      ],
      "text/latex": [
       "'Intel(R) Core(TM) i7-7700HQ CPU @ 2.80GHz'"
      ],
      "text/markdown": [
       "'Intel(R) Core(TM) i7-7700HQ CPU @ 2.80GHz'"
      ],
      "text/plain": [
       "[1] \"Intel(R) Core(TM) i7-7700HQ CPU @ 2.80GHz\""
      ]
     },
     "metadata": {},
     "output_type": "display_data"
    },
    {
     "data": {
      "text/html": [
       "8"
      ],
      "text/latex": [
       "8"
      ],
      "text/markdown": [
       "8"
      ],
      "text/plain": [
       "[1] 8"
      ]
     },
     "metadata": {},
     "output_type": "display_data"
    },
    {
     "data": {
      "text/plain": [
       "8.59 GB"
      ]
     },
     "metadata": {},
     "output_type": "display_data"
    }
   ],
   "source": [
    "library(benchmarkme)\n",
    "get_platform_info()$OS.type\n",
    "get_r_version()$version.string\n",
    "get_cpu()$model_name;get_cpu()$no_of_cores\n",
    "get_ram()"
   ]
  },
  {
   "cell_type": "code",
   "execution_count": 2,
   "metadata": {},
   "outputs": [
    {
     "name": "stderr",
     "output_type": "stream",
     "text": [
      "(\"|-----------------------------------------------------|\")\n",
      "(\"|                      xbreed                         |\")\n",
      "(\"|    Genomic simulation of purebreds and crossbreds   |\")\n",
      "(\"|               March 2017 Version 1.0.1              |\")\n",
      "(\"|                                                     |\")\n",
      "(\"|             H.Esfandyari,A.C.Sorensen               |\")\n",
      "(\"| Center for Quantitative Qenetics and Genomics (QGG) |\")\n",
      "(\"|             Aarhus University,Denmark               |\")\n",
      "(\"|                                                     |\")\n",
      "(\"|-----------------------------------------------------|\")\n",
      "(\"|Questions and bugs: esfandyari.hadi@gmail.com        |\")\n",
      "(\"|Development of xbreed was supported by GenSAP.       |\")\n",
      "(\"|-----------------------------------------------------|\")\n"
     ]
    }
   ],
   "source": [
    "##Package was modified to allow complete cross mating\n",
    "#library(\"devtools\")\n",
    "#install_github(\"gglinzijie/xbreed\")\n",
    "library(\"xbreed\")"
   ]
  },
  {
   "cell_type": "markdown",
   "metadata": {},
   "source": [
    "# Genome specification"
   ]
  },
  {
   "cell_type": "code",
   "execution_count": 6,
   "metadata": {},
   "outputs": [
    {
     "data": {
      "text/html": [
       "3928"
      ],
      "text/latex": [
       "3928"
      ],
      "text/markdown": [
       "3928"
      ],
      "text/plain": [
       "[1] 3928"
      ]
     },
     "metadata": {},
     "output_type": "display_data"
    }
   ],
   "source": [
    "#Number of markers per chr from chapter 1\n",
    "lin_map<-read.table(\"raw.map\")\n",
    "m=1:22\n",
    "for(i in 1:22) {m[i]=dim(lin_map[lin_map$V1==i,])[1]}\n",
    "sum(m)"
   ]
  },
  {
   "cell_type": "code",
   "execution_count": 4,
   "metadata": {},
   "outputs": [],
   "source": [
    "#data from chaptre 1\n",
    "geno<-read.table(\"Hetero_realigned_cov10_filtered3.raw\")\n",
    "pheno<-read.csv(\"2017heteroPheno.csv\", header=T)\n",
    "attach(pheno)"
   ]
  },
  {
   "cell_type": "code",
   "execution_count": 5,
   "metadata": {},
   "outputs": [],
   "source": [
    "#parameter of genome\n",
    "no.chr<-22\n",
    "genome<-data.frame(matrix(NA, nrow=no.chr, ncol=6))\n",
    "names(genome)<-c(\"chr\",\"len\",\"nmrk\",\"mpos\",\"nqtl\",\"qpos\")\n",
    "genome$chr<-c(1:no.chr) #Chromosome id from 1 to 22\n",
    "genome$len<-c(200,rep(100,21))#Chromosome length in cM\n",
    "genome$nmrk<-c(3*m) #Number of markers, 3*3928 in total \n",
    "genome$mpos<-c('even') \n",
    "genome$nqtl<-c(40) #Number of qtl  40*22 = 880 in total\n",
    "genome$qpos<-c('rnd')"
   ]
  },
  {
   "cell_type": "markdown",
   "metadata": {},
   "source": [
    "# Historiacal population"
   ]
  },
  {
   "cell_type": "code",
   "execution_count": 6,
   "metadata": {},
   "outputs": [
    {
     "name": "stdout",
     "output_type": "stream",
     "text": [
      "---sel_seq_qtl is missing, it has been set to default value of 0\n",
      "---sel_seq_mrk is missing, it has been set to default value of 0\n",
      "Historical pop is initialized...\n",
      "Simulating trait ...\n",
      "Output data preparation ...\n",
      "Establishment of historical population completed\n"
     ]
    }
   ],
   "source": [
    "#Historical population \n",
    "hp<-make_hp(hpsize=1000 ,ng=5000,h2=0.654,d2=0,phen_var=84,\n",
    "            genome=genome,mutr=2.5*10**-4,laf=1)"
   ]
  },
  {
   "cell_type": "code",
   "execution_count": 7,
   "metadata": {},
   "outputs": [
    {
     "data": {
      "text/html": [
       "0.333333333333333"
      ],
      "text/latex": [
       "0.333333333333333"
      ],
      "text/markdown": [
       "0.333333333333333"
      ],
      "text/plain": [
       "[1] 0.3333333"
      ]
     },
     "metadata": {},
     "output_type": "display_data"
    },
    {
     "data": {
      "text/html": [
       "0.398941959109369"
      ],
      "text/latex": [
       "0.398941959109369"
      ],
      "text/markdown": [
       "0.398941959109369"
      ],
      "text/plain": [
       "[1] 0.398942"
      ]
     },
     "metadata": {},
     "output_type": "display_data"
    }
   ],
   "source": [
    "#validation\n",
    "mutr<-2.5*10**-4\n",
    "ne<-1000\n",
    "k<-2 \n",
    "Fneu<-4*ne*mutr\n",
    "(Expected_het1<-1-((1+((Fneu)/(k-1)))/(1+((Fneu*k)/(k-1)))))\n",
    "(het_observed<-mean(2*(hp$freqMrk[,3]*hp$freqMrk[,4])))"
   ]
  },
  {
   "cell_type": "code",
   "execution_count": 8,
   "metadata": {},
   "outputs": [],
   "source": [
    "Male_founders<-data.frame(number=10,select='rnd')\n",
    "Female_founders<-data.frame(number=10,select='rnd')"
   ]
  },
  {
   "cell_type": "code",
   "execution_count": 9,
   "metadata": {},
   "outputs": [],
   "source": [
    "Selection<-data.frame(matrix(NA, nrow=2, ncol=3))\n",
    "names(Selection)<-c('Number','type','Value') \n",
    "Selection$Number[1:2]<-c(10,10)\n",
    "Selection$type[1:2]<-c('rnd','rnd')\n",
    "Selection$Value[1:2]<-c('l','l')"
   ]
  },
  {
   "cell_type": "code",
   "execution_count": 10,
   "metadata": {},
   "outputs": [],
   "source": [
    "sh_output<-data.frame(matrix(NA, nrow=1, ncol=4))\n",
    "names(sh_output)<-c(\"data\",\"qtl\",\"freq_mrk\",\"marker\")\n",
    "sh_output[1]<-c(1) \n",
    "sh_output[2]<-c(1) \n",
    "sh_output[3]<-c(1)\n",
    "sh_output[4]<-c(1)"
   ]
  },
  {
   "cell_type": "code",
   "execution_count": 11,
   "metadata": {
    "scrolled": true
   },
   "outputs": [
    {
     "name": "stdout",
     "output_type": "stream",
     "text": [
      "Controlling input data ...\n",
      "Intializing base population ...\n",
      "Generation 0 started ......... \n",
      "Generation 0 is finished. Time taken: 14.86296\n",
      "Generation 1 started ......... \n",
      "Generation 1 is finished. Time taken: 21.10412\n",
      "Output data preparation ...\n",
      "Writing output files ...\n",
      "Sampling hp is done!\n"
     ]
    }
   ],
   "source": [
    "#10 sires and 10 dams perform complete cross; 200 eggs were produced per dam.\n",
    "RP<-sample_hp(hp_out=hp,Male_founders= Male_founders,\n",
    "              Female_founders=Female_founders,ng=1,Selection=Selection, \n",
    "              litter_size=10,saveAt=\"SNP3928\",sh_output=sh_output,Display=FALSE)"
   ]
  },
  {
   "cell_type": "code",
   "execution_count": 12,
   "metadata": {},
   "outputs": [],
   "source": [
    "#function for calculate the allele coding, which is 0, 1, 2\n",
    "bin_snp<-function(mat){\n",
    "s1<-seq(1,ncol(mat),2)\n",
    "s2<-seq(2,ncol(mat),2)\n",
    "a1<-mat[,s1]+mat[,s2]\n",
    "a1[a1==3]=1\n",
    "a1[a1==4]=0\n",
    "snp_code<-a1\n",
    "return(snp_code)\n",
    " }"
   ]
  },
  {
   "cell_type": "code",
   "execution_count": 13,
   "metadata": {},
   "outputs": [],
   "source": [
    "##geno and pheno from simulated data\n",
    "pheno<-RP$output[[2]]$data$phen\n",
    "tbvp<-RP$output[[2]]$data$tbvp\n",
    "n<-bin_snp(RP$output[[2]]$mrk[,3:23570])\n",
    "x<-as.matrix(n)-1\n",
    "colnames(x)<-1:(3928*3)\n",
    "row.names(x)<-1:1000"
   ]
  },
  {
   "cell_type": "code",
   "execution_count": 14,
   "metadata": {},
   "outputs": [],
   "source": [
    "write.table(x,\"2.4_geno.txt\")\n",
    "write.table(pheno,\"2.4_pheno.txt\")\n",
    "write.table(tbvp,\"2.4_tbvp.txt\")"
   ]
  },
  {
   "cell_type": "code",
   "execution_count": 1,
   "metadata": {},
   "outputs": [],
   "source": [
    "# Simulation result\n",
    "x<-as.matrix(read.table(\"2.4_geno.txt\"))\n",
    "pheno<-as.numeric(unlist(read.table(\"2.4_pheno.txt\")))\n",
    "tbvp<-as.numeric(unlist(read.table(\"2.4_tbvp.txt\")))"
   ]
  },
  {
   "cell_type": "code",
   "execution_count": 2,
   "metadata": {},
   "outputs": [
    {
     "name": "stderr",
     "output_type": "stream",
     "text": [
      "Loading required package: foreach\n",
      "Loading required package: iterators\n",
      "Loading required package: parallel\n"
     ]
    },
    {
     "data": {
      "text/plain": [
       "[1] '4.6'"
      ]
     },
     "metadata": {},
     "output_type": "display_data"
    }
   ],
   "source": [
    "##load packages\n",
    "library(doParallel)\n",
    "library(foreach)\n",
    "cl<-makeCluster(8) \n",
    "repeats <- 10\n",
    "n.fold <- 5 \n",
    "acc<-list()\n",
    "library(rrBLUP)\n",
    "packageVersion(\"rrBLUP\") "
   ]
  },
  {
   "cell_type": "code",
   "execution_count": 3,
   "metadata": {},
   "outputs": [],
   "source": [
    "cal_se<-function(acc){sd(acc)/sqrt(repeats-1)}"
   ]
  },
  {
   "cell_type": "code",
   "execution_count": 4,
   "metadata": {},
   "outputs": [],
   "source": [
    "# Function for calculating the accuracy of GP with \n",
    "# varying size of reference population and varying denstiy of SNP panel\n",
    "cal_acc<-function(x,n.sample,n.snp){\n",
    "set.seed(100)\n",
    "id<-sample(1:dim(x)[1],n.sample)\n",
    "snpId<-sample(1:dim(x)[2],n.snp)\n",
    "#relationship matrix (Endelman at al. 2011)\n",
    "A <- A.mat(x[id,snpId], n.core=8)\n",
    "row.names(A)=1:n.sample;colnames(A)=1:n.sample\n",
    "data <- data.frame(tbcw=pheno[id],tbvp=tbvp[id],gid=1:n.sample)\n",
    "result<-data.frame(heritability=rep(NA,50),\n",
    "                   bias_r=rep(NA,50),\n",
    "                   unbias_r=rep(NA,50),\n",
    "                   true_r=rep(NA,50))    \n",
    "registerDoParallel(cl)\n",
    "foreach(j=1:repeats,.combine = \"rbind\") %do% {\n",
    "        set.seed(100+3*j+1)\n",
    "        id <- sample(1:n.sample %% n.fold) + 1 \n",
    "        foreach(i=1:n.fold,.packages=\"rrBLUP\") %do% {\n",
    "         bcw_test <- data\n",
    "         bcw_test$tbcw[id == i] <- NA\n",
    "         res <- kin.blup(bcw_test, K=A, geno=\"gid\", pheno=\"tbcw\")\n",
    "         result[5*(j-1)+i,1]<-res$Vg/(res$Vg+res$Ve)\n",
    "         result[5*(j-1)+i,2]<-cor(data$tbcw[id==i],res$pred[id==i])\n",
    "         result[5*(j-1)+i,3]<-cor(data$tbcw[id==i],res$pred[id==i])/sqrt(res$Vg/(res$Vg+res$Ve))\n",
    "         result[5*(j-1)+i,4]<-cor(data$tbvp[id==i],res$pred[id==i])\n",
    "    }\n",
    "   }\n",
    "stopImplicitCluster()\n",
    "return(c(apply(result, 2, mean),apply(result,2,cal_se)))    \n",
    "}"
   ]
  },
  {
   "cell_type": "code",
   "execution_count": 7,
   "metadata": {},
   "outputs": [],
   "source": [
    "sum_m<-sum(m)\n",
    "n.snp<-c(round(0.1*sum_m),round(0.2*sum_m), \n",
    "             round(0.3*sum_m),round(0.4*sum_m),\n",
    "             round(0.5*sum_m),round(0.6*sum_m),\n",
    "             round(0.7*sum_m),round(0.8*sum_m),\n",
    "             round(0.9*sum_m),sum_m,\n",
    "             2*sum_m, 3*sum_m)\n",
    "             \n",
    "n.sample<-rep(c(500),12)\n",
    "pair<-data.frame(n.snp=n.snp,n.sample=n.sample)"
   ]
  },
  {
   "cell_type": "code",
   "execution_count": 8,
   "metadata": {},
   "outputs": [],
   "source": [
    "#implemente the caculation \n",
    "all_acc<-matrix(NA,nrow = 8,ncol = length(n.snp))\n",
    "all_accBA<-all_accBB<-all_accBC<-all_accBL<-all_acc\n",
    "for (i in 1:length(n.snp)){\n",
    "    all_acc[,i]<-cal_acc(x,n.sample[i],n.snp[i])}"
   ]
  },
  {
   "cell_type": "code",
   "execution_count": 19,
   "metadata": {},
   "outputs": [],
   "source": [
    "colnames(all_acc)<-n.snp\n",
    "row.names(all_acc)<-c(\"h2\",\"bias_r\",\"unbias_r\",\"true_r\",\"h2_se\",\"bias_r_se\",\"unbias_r_se\",\"true_r_se\")"
   ]
  },
  {
   "cell_type": "code",
   "execution_count": 10,
   "metadata": {},
   "outputs": [
    {
     "data": {
      "text/plain": [
       "[1] '1.0.5'"
      ]
     },
     "metadata": {},
     "output_type": "display_data"
    }
   ],
   "source": [
    "library(\"BGLR\")\n",
    "packageVersion(\"BGLR\") "
   ]
  },
  {
   "cell_type": "code",
   "execution_count": 11,
   "metadata": {},
   "outputs": [],
   "source": [
    "# Function for calculating the accuracy of GP with \n",
    "# varying size of reference population and varying denstiy of SNP panel\n",
    "cal_accB<-function(x,n.sample,n.snp,M){\n",
    "set.seed(100)\n",
    "id<-sample(1:dim(x)[1],n.sample)\n",
    "snpId<-sample(1:dim(x)[2],n.snp)\n",
    "x1<-x[id,snpId]\n",
    "data <- data.frame(tbcw=pheno[id],tbvp=tbvp[id],gid=1:n.sample)\n",
    "result<-data.frame(heritability=rep(NA,50),\n",
    "                   bias_r=rep(NA,50),\n",
    "                   unbias_r=rep(NA,50),\n",
    "                   true_r=rep(NA,50))                   \n",
    "registerDoParallel(cl)\n",
    "foreach(j=1:repeats,.combine = \"rbind\") %do% {\n",
    "        set.seed(100+3*j+1)\n",
    "        id <- sample(1:n.sample %% n.fold) + 1 \n",
    "        foreach(i=1:n.fold,.packages=\"BGLR\") %do% {\n",
    "         bcw_test <- data\n",
    "         bcw_test$tbcw[id == i] <- NA\n",
    "         fm=BGLR(y=bcw_test$tbcw,ETA=list(list(X=x1,model=M,saveEffects=T,saveAt='fm_')),nIter=2000,burnIn=1000,verbose=F)\n",
    "         varU=var(x1%*%fm$ETA[[1]]$b)\n",
    "         varE=fm$varE\n",
    "         h2=varU/(varU+varE)\n",
    "         result[5*(j-1)+i,1]<-h2\n",
    "         result[5*(j-1)+i,2]<-cor(data$tbcw[id == i],fm$yHat[id == i])\n",
    "         result[5*(j-1)+i,3]<-cor(data$tbcw[id==i],fm$yHat[id == i])/sqrt(h2)\n",
    "         result[5*(j-1)+i,4]<-cor(data$tbvp[id==i],fm$yHat[id == i])\n",
    "    }\n",
    "   }\n",
    "stopImplicitCluster()\n",
    "return(c(apply(result, 2, mean),apply(result,2,cal_se)))    \n",
    "}"
   ]
  },
  {
   "cell_type": "code",
   "execution_count": 12,
   "metadata": {},
   "outputs": [],
   "source": [
    "for (i in 1:length(n.snp)){all_accBA[,i]<-cal_accB(x,n.sample[i],n.snp[i],\"BayesA\")}"
   ]
  },
  {
   "cell_type": "code",
   "execution_count": 13,
   "metadata": {},
   "outputs": [],
   "source": [
    "for (i in 1:length(n.snp)){all_accBB[,i]<-cal_accB(x,n.sample[i],n.snp[i],\"BayesB\")}"
   ]
  },
  {
   "cell_type": "code",
   "execution_count": 14,
   "metadata": {},
   "outputs": [],
   "source": [
    "for (i in 1:length(n.snp)){all_accBC[,i]<-cal_accB(x,n.sample[i],n.snp[i],\"BayesC\")}"
   ]
  },
  {
   "cell_type": "code",
   "execution_count": null,
   "metadata": {},
   "outputs": [],
   "source": [
    "for (i in 1:length(n.snp)){all_accBL[,i]<-cal_accB(x,n.sample[i],n.snp[i],\"BL\")}"
   ]
  },
  {
   "cell_type": "code",
   "execution_count": 16,
   "metadata": {},
   "outputs": [],
   "source": [
    "colnames(all_accBA)<-n.snp\n",
    "colnames(all_accBB)<-n.snp\n",
    "colnames(all_accBC)<-n.snp\n",
    "colnames(all_accBL)<-n.snp\n",
    "row.names(all_accBA)<-c(\"h2\",\"bias_r\",\"unbias_r\",\"true_r\",\"h2_se\",\"bias_r_se\",\"unbias_r_se\",\"true_r_se\")\n",
    "row.names(all_accBB)<-c(\"h2\",\"bias_r\",\"unbias_r\",\"true_r\",\"h2_se\",\"bias_r_se\",\"unbias_r_se\",\"true_r_se\")\n",
    "row.names(all_accBC)<-c(\"h2\",\"bias_r\",\"unbias_r\",\"true_r\",\"h2_se\",\"bias_r_se\",\"unbias_r_se\",\"true_r_se\")\n",
    "row.names(all_accBL)<-c(\"h2\",\"bias_r\",\"unbias_r\",\"true_r\",\"h2_se\",\"bias_r_se\",\"unbias_r_se\",\"true_r_se\")"
   ]
  },
  {
   "cell_type": "code",
   "execution_count": 18,
   "metadata": {},
   "outputs": [
    {
     "data": {
      "text/html": [
       "<dl>\n",
       "\t<dt>$GBLUP</dt>\n",
       "\t\t<dd><table>\n",
       "<thead><tr><th></th><th scope=col>393</th><th scope=col>786</th><th scope=col>1178</th><th scope=col>1571</th><th scope=col>1964</th><th scope=col>2357</th><th scope=col>2750</th><th scope=col>3142</th><th scope=col>3535</th><th scope=col>3928</th><th scope=col>7856</th><th scope=col>11784</th></tr></thead>\n",
       "<tbody>\n",
       "\t<tr><th scope=row>h2</th><td>0.363310541</td><td>0.44976490 </td><td>0.50848833 </td><td>0.49554165 </td><td>0.51455202 </td><td>0.52579918 </td><td>0.53275068 </td><td>0.51051618 </td><td>0.51123960 </td><td>0.52808219 </td><td>0.55792586 </td><td>0.54972511 </td></tr>\n",
       "\t<tr><th scope=row>bias_r</th><td>0.435327191</td><td>0.46824804 </td><td>0.48504048 </td><td>0.47648301 </td><td>0.48073862 </td><td>0.48390766 </td><td>0.48682878 </td><td>0.47732866 </td><td>0.47688085 </td><td>0.48109928 </td><td>0.48787441 </td><td>0.48279206 </td></tr>\n",
       "\t<tr><th scope=row>unbias_r</th><td>0.727108820</td><td>0.70122527 </td><td>0.68301680 </td><td>0.67983450 </td><td>0.67279724 </td><td>0.67003669 </td><td>0.66994760 </td><td>0.67141752 </td><td>0.67022667 </td><td>0.66517193 </td><td>0.65685898 </td><td>0.65535330 </td></tr>\n",
       "\t<tr><th scope=row>true_r</th><td>0.603680908</td><td>0.62532324 </td><td>0.64376388 </td><td>0.63969405 </td><td>0.64593359 </td><td>0.64612511 </td><td>0.65105900 </td><td>0.64418767 </td><td>0.64377149 </td><td>0.64709544 </td><td>0.65177439 </td><td>0.64906590 </td></tr>\n",
       "\t<tr><th scope=row>h2_se</th><td>0.009880405</td><td>0.01037233 </td><td>0.01360362 </td><td>0.01293085 </td><td>0.01376099 </td><td>0.01478906 </td><td>0.01534238 </td><td>0.01535742 </td><td>0.01522410 </td><td>0.01555636 </td><td>0.01951229 </td><td>0.02028223 </td></tr>\n",
       "\t<tr><th scope=row>bias_r_se</th><td>0.024242081</td><td>0.02230301 </td><td>0.02213494 </td><td>0.02257555 </td><td>0.02193064 </td><td>0.02207663 </td><td>0.02229069 </td><td>0.02316927 </td><td>0.02318196 </td><td>0.02275252 </td><td>0.02242564 </td><td>0.02258238 </td></tr>\n",
       "\t<tr><th scope=row>unbias_r_se</th><td>0.047232227</td><td>0.03831738 </td><td>0.03522041 </td><td>0.03658850 </td><td>0.03433702 </td><td>0.03430243 </td><td>0.03494157 </td><td>0.03715073 </td><td>0.03690602 </td><td>0.03575086 </td><td>0.03487741 </td><td>0.03578900 </td></tr>\n",
       "\t<tr><th scope=row>true_r_se</th><td>0.018344938</td><td>0.01885384 </td><td>0.01762707 </td><td>0.01836251 </td><td>0.01783496 </td><td>0.01797581 </td><td>0.01765945 </td><td>0.01821076 </td><td>0.01853163 </td><td>0.01785488 </td><td>0.01727918 </td><td>0.01730412 </td></tr>\n",
       "</tbody>\n",
       "</table>\n",
       "</dd>\n",
       "\t<dt>$BA</dt>\n",
       "\t\t<dd><table>\n",
       "<thead><tr><th></th><th scope=col>393</th><th scope=col>786</th><th scope=col>1178</th><th scope=col>1571</th><th scope=col>1964</th><th scope=col>2357</th><th scope=col>2750</th><th scope=col>3142</th><th scope=col>3535</th><th scope=col>3928</th><th scope=col>7856</th><th scope=col>11784</th></tr></thead>\n",
       "<tbody>\n",
       "\t<tr><th scope=row>h2</th><td>0.261422272</td><td>0.33691048 </td><td>0.38656288 </td><td>0.38563216 </td><td>0.39029099 </td><td>0.41026821 </td><td>0.41485776 </td><td>0.40542715 </td><td>0.40338227 </td><td>0.43397677 </td><td>0.48590287 </td><td>0.49015200 </td></tr>\n",
       "\t<tr><th scope=row>bias_r</th><td>0.433528090</td><td>0.46597317 </td><td>0.48993733 </td><td>0.47962319 </td><td>0.48140242 </td><td>0.48641454 </td><td>0.49000986 </td><td>0.47867546 </td><td>0.47619632 </td><td>0.48153130 </td><td>0.49087029 </td><td>0.48662654 </td></tr>\n",
       "\t<tr><th scope=row>unbias_r</th><td>0.856964219</td><td>0.80994087 </td><td>0.79637977 </td><td>0.78169169 </td><td>0.77780616 </td><td>0.76438712 </td><td>0.77006558 </td><td>0.76199017 </td><td>0.76129825 </td><td>0.73901520 </td><td>0.70974282 </td><td>0.70099570 </td></tr>\n",
       "\t<tr><th scope=row>true_r</th><td>0.599023580</td><td>0.61925680 </td><td>0.64085469 </td><td>0.63740978 </td><td>0.64284538 </td><td>0.64572965 </td><td>0.65079259 </td><td>0.64328962 </td><td>0.64262656 </td><td>0.64633091 </td><td>0.65125759 </td><td>0.65104441 </td></tr>\n",
       "\t<tr><th scope=row>h2_se</th><td>0.009123414</td><td>0.01289417 </td><td>0.01628844 </td><td>0.01957944 </td><td>0.01851311 </td><td>0.01721825 </td><td>0.02148388 </td><td>0.02105453 </td><td>0.02449800 </td><td>0.02205300 </td><td>0.02315900 </td><td>0.02173439 </td></tr>\n",
       "\t<tr><th scope=row>bias_r_se</th><td>0.024104258</td><td>0.02199523 </td><td>0.02156292 </td><td>0.02253154 </td><td>0.02204420 </td><td>0.02245592 </td><td>0.02207590 </td><td>0.02205870 </td><td>0.02344797 </td><td>0.02258351 </td><td>0.02174710 </td><td>0.02296211 </td></tr>\n",
       "\t<tr><th scope=row>unbias_r_se</th><td>0.059462784</td><td>0.04786029 </td><td>0.04685663 </td><td>0.04755170 </td><td>0.04315605 </td><td>0.04043590 </td><td>0.04563594 </td><td>0.04695656 </td><td>0.04892665 </td><td>0.04353270 </td><td>0.03616681 </td><td>0.03953214 </td></tr>\n",
       "\t<tr><th scope=row>true_r_se</th><td>0.018718606</td><td>0.01864124 </td><td>0.01796454 </td><td>0.01820245 </td><td>0.01834277 </td><td>0.01868864 </td><td>0.01726350 </td><td>0.01814282 </td><td>0.01922628 </td><td>0.01808371 </td><td>0.01671852 </td><td>0.01737887 </td></tr>\n",
       "</tbody>\n",
       "</table>\n",
       "</dd>\n",
       "\t<dt>$BB</dt>\n",
       "\t\t<dd><table>\n",
       "<thead><tr><th></th><th scope=col>393</th><th scope=col>786</th><th scope=col>1178</th><th scope=col>1571</th><th scope=col>1964</th><th scope=col>2357</th><th scope=col>2750</th><th scope=col>3142</th><th scope=col>3535</th><th scope=col>3928</th><th scope=col>7856</th><th scope=col>11784</th></tr></thead>\n",
       "<tbody>\n",
       "\t<tr><th scope=row>h2</th><td>0.266753413</td><td>0.33144920 </td><td>0.40115229 </td><td>0.39079871 </td><td>0.40225208 </td><td>0.40669947 </td><td>0.42976112 </td><td>0.42357203 </td><td>0.40650199 </td><td>0.42045423 </td><td>0.45618528 </td><td>0.45101705 </td></tr>\n",
       "\t<tr><th scope=row>bias_r</th><td>0.434493490</td><td>0.46926378 </td><td>0.49209898 </td><td>0.48443387 </td><td>0.48331787 </td><td>0.48772538 </td><td>0.49261601 </td><td>0.48260829 </td><td>0.47897299 </td><td>0.48296699 </td><td>0.49178513 </td><td>0.48688875 </td></tr>\n",
       "\t<tr><th scope=row>unbias_r</th><td>0.850406855</td><td>0.82309614 </td><td>0.78258488 </td><td>0.78241769 </td><td>0.76868121 </td><td>0.76989612 </td><td>0.75976429 </td><td>0.74964415 </td><td>0.76014894 </td><td>0.75034777 </td><td>0.73602637 </td><td>0.73141142 </td></tr>\n",
       "\t<tr><th scope=row>true_r</th><td>0.592078212</td><td>0.61597760 </td><td>0.63367578 </td><td>0.63413479 </td><td>0.63984079 </td><td>0.64113814 </td><td>0.64856802 </td><td>0.64406691 </td><td>0.64114338 </td><td>0.64592535 </td><td>0.65289620 </td><td>0.65102018 </td></tr>\n",
       "\t<tr><th scope=row>h2_se</th><td>0.009672289</td><td>0.01224396 </td><td>0.01496450 </td><td>0.01614697 </td><td>0.01507310 </td><td>0.01502973 </td><td>0.01940411 </td><td>0.01952781 </td><td>0.01841774 </td><td>0.01819044 </td><td>0.02119979 </td><td>0.01849331 </td></tr>\n",
       "\t<tr><th scope=row>bias_r_se</th><td>0.024007254</td><td>0.02207014 </td><td>0.02153158 </td><td>0.02233918 </td><td>0.02147075 </td><td>0.02196739 </td><td>0.02126814 </td><td>0.02247380 </td><td>0.02336795 </td><td>0.02328153 </td><td>0.02186292 </td><td>0.02171174 </td></tr>\n",
       "\t<tr><th scope=row>unbias_r_se</th><td>0.059041799</td><td>0.05062534 </td><td>0.04188547 </td><td>0.04611026 </td><td>0.04338203 </td><td>0.04114575 </td><td>0.04446837 </td><td>0.04484918 </td><td>0.04877351 </td><td>0.04180863 </td><td>0.04229817 </td><td>0.04119455 </td></tr>\n",
       "\t<tr><th scope=row>true_r_se</th><td>0.019653163</td><td>0.01885724 </td><td>0.01821224 </td><td>0.01959548 </td><td>0.01906572 </td><td>0.01861276 </td><td>0.01753673 </td><td>0.01847607 </td><td>0.01925085 </td><td>0.01895782 </td><td>0.01707054 </td><td>0.01651115 </td></tr>\n",
       "</tbody>\n",
       "</table>\n",
       "</dd>\n",
       "\t<dt>$BC</dt>\n",
       "\t\t<dd><table>\n",
       "<thead><tr><th></th><th scope=col>393</th><th scope=col>786</th><th scope=col>1178</th><th scope=col>1571</th><th scope=col>1964</th><th scope=col>2357</th><th scope=col>2750</th><th scope=col>3142</th><th scope=col>3535</th><th scope=col>3928</th><th scope=col>7856</th><th scope=col>11784</th></tr></thead>\n",
       "<tbody>\n",
       "\t<tr><th scope=row>h2</th><td>0.271493254</td><td>0.337377075</td><td>0.38637825 </td><td>0.37046251 </td><td>0.38850086 </td><td>0.39095005 </td><td>0.39810183 </td><td>0.38481682 </td><td>0.38461510 </td><td>0.39148989 </td><td>0.42744127 </td><td>0.42084807 </td></tr>\n",
       "\t<tr><th scope=row>bias_r</th><td>0.436332112</td><td>0.470455932</td><td>0.49379882 </td><td>0.47937379 </td><td>0.48174177 </td><td>0.48437185 </td><td>0.48914214 </td><td>0.47970694 </td><td>0.47832631 </td><td>0.48211181 </td><td>0.48958200 </td><td>0.48258365 </td></tr>\n",
       "\t<tr><th scope=row>unbias_r</th><td>0.845516441</td><td>0.813970995</td><td>0.80003156 </td><td>0.79416384 </td><td>0.77721055 </td><td>0.78164944 </td><td>0.78001000 </td><td>0.78026232 </td><td>0.77899676 </td><td>0.77773144 </td><td>0.75679668 </td><td>0.75074626 </td></tr>\n",
       "\t<tr><th scope=row>true_r</th><td>0.597985291</td><td>0.619809100</td><td>0.64321750 </td><td>0.63653582 </td><td>0.64575183 </td><td>0.64356433 </td><td>0.65137362 </td><td>0.64398012 </td><td>0.64279086 </td><td>0.64630398 </td><td>0.65227900 </td><td>0.64762563 </td></tr>\n",
       "\t<tr><th scope=row>h2_se</th><td>0.009140729</td><td>0.008068787</td><td>0.01321310 </td><td>0.01395112 </td><td>0.01409730 </td><td>0.01554817 </td><td>0.01297412 </td><td>0.01542625 </td><td>0.01716526 </td><td>0.01578615 </td><td>0.01867713 </td><td>0.02116580 </td></tr>\n",
       "\t<tr><th scope=row>bias_r_se</th><td>0.024088139</td><td>0.022954699</td><td>0.02156381 </td><td>0.02246556 </td><td>0.02203973 </td><td>0.02258453 </td><td>0.02228425 </td><td>0.02313511 </td><td>0.02289354 </td><td>0.02196765 </td><td>0.02356289 </td><td>0.02353916 </td></tr>\n",
       "\t<tr><th scope=row>unbias_r_se</th><td>0.057447919</td><td>0.046056350</td><td>0.04309909 </td><td>0.04603807 </td><td>0.04050371 </td><td>0.04566401 </td><td>0.04236389 </td><td>0.04681475 </td><td>0.04650312 </td><td>0.04519661 </td><td>0.04679040 </td><td>0.04219058 </td></tr>\n",
       "\t<tr><th scope=row>true_r_se</th><td>0.018967200</td><td>0.019025288</td><td>0.01740178 </td><td>0.01820951 </td><td>0.01812834 </td><td>0.01867814 </td><td>0.01780247 </td><td>0.01827756 </td><td>0.01851811 </td><td>0.01731570 </td><td>0.01782920 </td><td>0.01813067 </td></tr>\n",
       "</tbody>\n",
       "</table>\n",
       "</dd>\n",
       "\t<dt>$BL</dt>\n",
       "\t\t<dd><table>\n",
       "<thead><tr><th></th><th scope=col>393</th><th scope=col>786</th><th scope=col>1178</th><th scope=col>1571</th><th scope=col>1964</th><th scope=col>2357</th><th scope=col>2750</th><th scope=col>3142</th><th scope=col>3535</th><th scope=col>3928</th><th scope=col>7856</th><th scope=col>11784</th></tr></thead>\n",
       "<tbody>\n",
       "\t<tr><th scope=row>h2</th><td>0.24646461</td><td>0.30277414</td><td>0.34755792</td><td>0.33527230</td><td>0.35307615</td><td>0.35579692</td><td>0.36955515</td><td>0.35515848</td><td>0.34962798</td><td>0.36912040</td><td>0.43565150</td><td>0.45970960</td></tr>\n",
       "\t<tr><th scope=row>bias_r</th><td>0.43483008</td><td>0.47023219</td><td>0.48754319</td><td>0.47711396</td><td>0.47913709</td><td>0.48142069</td><td>0.48889530</td><td>0.47767693</td><td>0.47693143</td><td>0.48222360</td><td>0.48924243</td><td>0.48683691</td></tr>\n",
       "\t<tr><th scope=row>unbias_r</th><td>0.88982503</td><td>0.86437245</td><td>0.83583826</td><td>0.83291256</td><td>0.82002798</td><td>0.81565231</td><td>0.81498614</td><td>0.81184018</td><td>0.81880166</td><td>0.80279333</td><td>0.74868839</td><td>0.72774985</td></tr>\n",
       "\t<tr><th scope=row>true_r</th><td>0.59921738</td><td>0.62097851</td><td>0.63929700</td><td>0.63657584</td><td>0.64196983</td><td>0.64257937</td><td>0.64970584</td><td>0.64369956</td><td>0.64136225</td><td>0.64645369</td><td>0.65196534</td><td>0.64954343</td></tr>\n",
       "\t<tr><th scope=row>h2_se</th><td>0.01127377</td><td>0.01197376</td><td>0.01645107</td><td>0.01623301</td><td>0.02114777</td><td>0.01814820</td><td>0.01924497</td><td>0.01841056</td><td>0.01975917</td><td>0.01821738</td><td>0.02142664</td><td>0.02436858</td></tr>\n",
       "\t<tr><th scope=row>bias_r_se</th><td>0.02441423</td><td>0.02221192</td><td>0.02225650</td><td>0.02289488</td><td>0.02183776</td><td>0.02282409</td><td>0.02180984</td><td>0.02351240</td><td>0.02361574</td><td>0.02267446</td><td>0.02163194</td><td>0.02176317</td></tr>\n",
       "\t<tr><th scope=row>unbias_r_se</th><td>0.06655572</td><td>0.05494118</td><td>0.04883836</td><td>0.04941354</td><td>0.05216961</td><td>0.04695764</td><td>0.04882537</td><td>0.05117838</td><td>0.05381656</td><td>0.04728181</td><td>0.04148848</td><td>0.04422894</td></tr>\n",
       "\t<tr><th scope=row>true_r_se</th><td>0.01888144</td><td>0.01918698</td><td>0.01807389</td><td>0.01872343</td><td>0.01832461</td><td>0.01844652</td><td>0.01683831</td><td>0.01796367</td><td>0.01929765</td><td>0.01779710</td><td>0.01704868</td><td>0.01658078</td></tr>\n",
       "</tbody>\n",
       "</table>\n",
       "</dd>\n",
       "</dl>\n"
      ],
      "text/latex": [
       "\\begin{description}\n",
       "\\item[\\$GBLUP] \\begin{tabular}{r|llllllllllll}\n",
       "  & 393 & 786 & 1178 & 1571 & 1964 & 2357 & 2750 & 3142 & 3535 & 3928 & 7856 & 11784\\\\\n",
       "\\hline\n",
       "\th2 & 0.363310541 & 0.44976490  & 0.50848833  & 0.49554165  & 0.51455202  & 0.52579918  & 0.53275068  & 0.51051618  & 0.51123960  & 0.52808219  & 0.55792586  & 0.54972511 \\\\\n",
       "\tbias\\_r & 0.435327191 & 0.46824804  & 0.48504048  & 0.47648301  & 0.48073862  & 0.48390766  & 0.48682878  & 0.47732866  & 0.47688085  & 0.48109928  & 0.48787441  & 0.48279206 \\\\\n",
       "\tunbias\\_r & 0.727108820 & 0.70122527  & 0.68301680  & 0.67983450  & 0.67279724  & 0.67003669  & 0.66994760  & 0.67141752  & 0.67022667  & 0.66517193  & 0.65685898  & 0.65535330 \\\\\n",
       "\ttrue\\_r & 0.603680908 & 0.62532324  & 0.64376388  & 0.63969405  & 0.64593359  & 0.64612511  & 0.65105900  & 0.64418767  & 0.64377149  & 0.64709544  & 0.65177439  & 0.64906590 \\\\\n",
       "\th2\\_se & 0.009880405 & 0.01037233  & 0.01360362  & 0.01293085  & 0.01376099  & 0.01478906  & 0.01534238  & 0.01535742  & 0.01522410  & 0.01555636  & 0.01951229  & 0.02028223 \\\\\n",
       "\tbias\\_r\\_se & 0.024242081 & 0.02230301  & 0.02213494  & 0.02257555  & 0.02193064  & 0.02207663  & 0.02229069  & 0.02316927  & 0.02318196  & 0.02275252  & 0.02242564  & 0.02258238 \\\\\n",
       "\tunbias\\_r\\_se & 0.047232227 & 0.03831738  & 0.03522041  & 0.03658850  & 0.03433702  & 0.03430243  & 0.03494157  & 0.03715073  & 0.03690602  & 0.03575086  & 0.03487741  & 0.03578900 \\\\\n",
       "\ttrue\\_r\\_se & 0.018344938 & 0.01885384  & 0.01762707  & 0.01836251  & 0.01783496  & 0.01797581  & 0.01765945  & 0.01821076  & 0.01853163  & 0.01785488  & 0.01727918  & 0.01730412 \\\\\n",
       "\\end{tabular}\n",
       "\n",
       "\\item[\\$BA] \\begin{tabular}{r|llllllllllll}\n",
       "  & 393 & 786 & 1178 & 1571 & 1964 & 2357 & 2750 & 3142 & 3535 & 3928 & 7856 & 11784\\\\\n",
       "\\hline\n",
       "\th2 & 0.261422272 & 0.33691048  & 0.38656288  & 0.38563216  & 0.39029099  & 0.41026821  & 0.41485776  & 0.40542715  & 0.40338227  & 0.43397677  & 0.48590287  & 0.49015200 \\\\\n",
       "\tbias\\_r & 0.433528090 & 0.46597317  & 0.48993733  & 0.47962319  & 0.48140242  & 0.48641454  & 0.49000986  & 0.47867546  & 0.47619632  & 0.48153130  & 0.49087029  & 0.48662654 \\\\\n",
       "\tunbias\\_r & 0.856964219 & 0.80994087  & 0.79637977  & 0.78169169  & 0.77780616  & 0.76438712  & 0.77006558  & 0.76199017  & 0.76129825  & 0.73901520  & 0.70974282  & 0.70099570 \\\\\n",
       "\ttrue\\_r & 0.599023580 & 0.61925680  & 0.64085469  & 0.63740978  & 0.64284538  & 0.64572965  & 0.65079259  & 0.64328962  & 0.64262656  & 0.64633091  & 0.65125759  & 0.65104441 \\\\\n",
       "\th2\\_se & 0.009123414 & 0.01289417  & 0.01628844  & 0.01957944  & 0.01851311  & 0.01721825  & 0.02148388  & 0.02105453  & 0.02449800  & 0.02205300  & 0.02315900  & 0.02173439 \\\\\n",
       "\tbias\\_r\\_se & 0.024104258 & 0.02199523  & 0.02156292  & 0.02253154  & 0.02204420  & 0.02245592  & 0.02207590  & 0.02205870  & 0.02344797  & 0.02258351  & 0.02174710  & 0.02296211 \\\\\n",
       "\tunbias\\_r\\_se & 0.059462784 & 0.04786029  & 0.04685663  & 0.04755170  & 0.04315605  & 0.04043590  & 0.04563594  & 0.04695656  & 0.04892665  & 0.04353270  & 0.03616681  & 0.03953214 \\\\\n",
       "\ttrue\\_r\\_se & 0.018718606 & 0.01864124  & 0.01796454  & 0.01820245  & 0.01834277  & 0.01868864  & 0.01726350  & 0.01814282  & 0.01922628  & 0.01808371  & 0.01671852  & 0.01737887 \\\\\n",
       "\\end{tabular}\n",
       "\n",
       "\\item[\\$BB] \\begin{tabular}{r|llllllllllll}\n",
       "  & 393 & 786 & 1178 & 1571 & 1964 & 2357 & 2750 & 3142 & 3535 & 3928 & 7856 & 11784\\\\\n",
       "\\hline\n",
       "\th2 & 0.266753413 & 0.33144920  & 0.40115229  & 0.39079871  & 0.40225208  & 0.40669947  & 0.42976112  & 0.42357203  & 0.40650199  & 0.42045423  & 0.45618528  & 0.45101705 \\\\\n",
       "\tbias\\_r & 0.434493490 & 0.46926378  & 0.49209898  & 0.48443387  & 0.48331787  & 0.48772538  & 0.49261601  & 0.48260829  & 0.47897299  & 0.48296699  & 0.49178513  & 0.48688875 \\\\\n",
       "\tunbias\\_r & 0.850406855 & 0.82309614  & 0.78258488  & 0.78241769  & 0.76868121  & 0.76989612  & 0.75976429  & 0.74964415  & 0.76014894  & 0.75034777  & 0.73602637  & 0.73141142 \\\\\n",
       "\ttrue\\_r & 0.592078212 & 0.61597760  & 0.63367578  & 0.63413479  & 0.63984079  & 0.64113814  & 0.64856802  & 0.64406691  & 0.64114338  & 0.64592535  & 0.65289620  & 0.65102018 \\\\\n",
       "\th2\\_se & 0.009672289 & 0.01224396  & 0.01496450  & 0.01614697  & 0.01507310  & 0.01502973  & 0.01940411  & 0.01952781  & 0.01841774  & 0.01819044  & 0.02119979  & 0.01849331 \\\\\n",
       "\tbias\\_r\\_se & 0.024007254 & 0.02207014  & 0.02153158  & 0.02233918  & 0.02147075  & 0.02196739  & 0.02126814  & 0.02247380  & 0.02336795  & 0.02328153  & 0.02186292  & 0.02171174 \\\\\n",
       "\tunbias\\_r\\_se & 0.059041799 & 0.05062534  & 0.04188547  & 0.04611026  & 0.04338203  & 0.04114575  & 0.04446837  & 0.04484918  & 0.04877351  & 0.04180863  & 0.04229817  & 0.04119455 \\\\\n",
       "\ttrue\\_r\\_se & 0.019653163 & 0.01885724  & 0.01821224  & 0.01959548  & 0.01906572  & 0.01861276  & 0.01753673  & 0.01847607  & 0.01925085  & 0.01895782  & 0.01707054  & 0.01651115 \\\\\n",
       "\\end{tabular}\n",
       "\n",
       "\\item[\\$BC] \\begin{tabular}{r|llllllllllll}\n",
       "  & 393 & 786 & 1178 & 1571 & 1964 & 2357 & 2750 & 3142 & 3535 & 3928 & 7856 & 11784\\\\\n",
       "\\hline\n",
       "\th2 & 0.271493254 & 0.337377075 & 0.38637825  & 0.37046251  & 0.38850086  & 0.39095005  & 0.39810183  & 0.38481682  & 0.38461510  & 0.39148989  & 0.42744127  & 0.42084807 \\\\\n",
       "\tbias\\_r & 0.436332112 & 0.470455932 & 0.49379882  & 0.47937379  & 0.48174177  & 0.48437185  & 0.48914214  & 0.47970694  & 0.47832631  & 0.48211181  & 0.48958200  & 0.48258365 \\\\\n",
       "\tunbias\\_r & 0.845516441 & 0.813970995 & 0.80003156  & 0.79416384  & 0.77721055  & 0.78164944  & 0.78001000  & 0.78026232  & 0.77899676  & 0.77773144  & 0.75679668  & 0.75074626 \\\\\n",
       "\ttrue\\_r & 0.597985291 & 0.619809100 & 0.64321750  & 0.63653582  & 0.64575183  & 0.64356433  & 0.65137362  & 0.64398012  & 0.64279086  & 0.64630398  & 0.65227900  & 0.64762563 \\\\\n",
       "\th2\\_se & 0.009140729 & 0.008068787 & 0.01321310  & 0.01395112  & 0.01409730  & 0.01554817  & 0.01297412  & 0.01542625  & 0.01716526  & 0.01578615  & 0.01867713  & 0.02116580 \\\\\n",
       "\tbias\\_r\\_se & 0.024088139 & 0.022954699 & 0.02156381  & 0.02246556  & 0.02203973  & 0.02258453  & 0.02228425  & 0.02313511  & 0.02289354  & 0.02196765  & 0.02356289  & 0.02353916 \\\\\n",
       "\tunbias\\_r\\_se & 0.057447919 & 0.046056350 & 0.04309909  & 0.04603807  & 0.04050371  & 0.04566401  & 0.04236389  & 0.04681475  & 0.04650312  & 0.04519661  & 0.04679040  & 0.04219058 \\\\\n",
       "\ttrue\\_r\\_se & 0.018967200 & 0.019025288 & 0.01740178  & 0.01820951  & 0.01812834  & 0.01867814  & 0.01780247  & 0.01827756  & 0.01851811  & 0.01731570  & 0.01782920  & 0.01813067 \\\\\n",
       "\\end{tabular}\n",
       "\n",
       "\\item[\\$BL] \\begin{tabular}{r|llllllllllll}\n",
       "  & 393 & 786 & 1178 & 1571 & 1964 & 2357 & 2750 & 3142 & 3535 & 3928 & 7856 & 11784\\\\\n",
       "\\hline\n",
       "\th2 & 0.24646461 & 0.30277414 & 0.34755792 & 0.33527230 & 0.35307615 & 0.35579692 & 0.36955515 & 0.35515848 & 0.34962798 & 0.36912040 & 0.43565150 & 0.45970960\\\\\n",
       "\tbias\\_r & 0.43483008 & 0.47023219 & 0.48754319 & 0.47711396 & 0.47913709 & 0.48142069 & 0.48889530 & 0.47767693 & 0.47693143 & 0.48222360 & 0.48924243 & 0.48683691\\\\\n",
       "\tunbias\\_r & 0.88982503 & 0.86437245 & 0.83583826 & 0.83291256 & 0.82002798 & 0.81565231 & 0.81498614 & 0.81184018 & 0.81880166 & 0.80279333 & 0.74868839 & 0.72774985\\\\\n",
       "\ttrue\\_r & 0.59921738 & 0.62097851 & 0.63929700 & 0.63657584 & 0.64196983 & 0.64257937 & 0.64970584 & 0.64369956 & 0.64136225 & 0.64645369 & 0.65196534 & 0.64954343\\\\\n",
       "\th2\\_se & 0.01127377 & 0.01197376 & 0.01645107 & 0.01623301 & 0.02114777 & 0.01814820 & 0.01924497 & 0.01841056 & 0.01975917 & 0.01821738 & 0.02142664 & 0.02436858\\\\\n",
       "\tbias\\_r\\_se & 0.02441423 & 0.02221192 & 0.02225650 & 0.02289488 & 0.02183776 & 0.02282409 & 0.02180984 & 0.02351240 & 0.02361574 & 0.02267446 & 0.02163194 & 0.02176317\\\\\n",
       "\tunbias\\_r\\_se & 0.06655572 & 0.05494118 & 0.04883836 & 0.04941354 & 0.05216961 & 0.04695764 & 0.04882537 & 0.05117838 & 0.05381656 & 0.04728181 & 0.04148848 & 0.04422894\\\\\n",
       "\ttrue\\_r\\_se & 0.01888144 & 0.01918698 & 0.01807389 & 0.01872343 & 0.01832461 & 0.01844652 & 0.01683831 & 0.01796367 & 0.01929765 & 0.01779710 & 0.01704868 & 0.01658078\\\\\n",
       "\\end{tabular}\n",
       "\n",
       "\\end{description}\n"
      ],
      "text/markdown": [
       "$GBLUP\n",
       ":   \n",
       "| <!--/--> | 393 | 786 | 1178 | 1571 | 1964 | 2357 | 2750 | 3142 | 3535 | 3928 | 7856 | 11784 | \n",
       "|---|---|---|---|---|---|---|---|\n",
       "| h2 | 0.363310541 | 0.44976490  | 0.50848833  | 0.49554165  | 0.51455202  | 0.52579918  | 0.53275068  | 0.51051618  | 0.51123960  | 0.52808219  | 0.55792586  | 0.54972511  | \n",
       "| bias_r | 0.435327191 | 0.46824804  | 0.48504048  | 0.47648301  | 0.48073862  | 0.48390766  | 0.48682878  | 0.47732866  | 0.47688085  | 0.48109928  | 0.48787441  | 0.48279206  | \n",
       "| unbias_r | 0.727108820 | 0.70122527  | 0.68301680  | 0.67983450  | 0.67279724  | 0.67003669  | 0.66994760  | 0.67141752  | 0.67022667  | 0.66517193  | 0.65685898  | 0.65535330  | \n",
       "| true_r | 0.603680908 | 0.62532324  | 0.64376388  | 0.63969405  | 0.64593359  | 0.64612511  | 0.65105900  | 0.64418767  | 0.64377149  | 0.64709544  | 0.65177439  | 0.64906590  | \n",
       "| h2_se | 0.009880405 | 0.01037233  | 0.01360362  | 0.01293085  | 0.01376099  | 0.01478906  | 0.01534238  | 0.01535742  | 0.01522410  | 0.01555636  | 0.01951229  | 0.02028223  | \n",
       "| bias_r_se | 0.024242081 | 0.02230301  | 0.02213494  | 0.02257555  | 0.02193064  | 0.02207663  | 0.02229069  | 0.02316927  | 0.02318196  | 0.02275252  | 0.02242564  | 0.02258238  | \n",
       "| unbias_r_se | 0.047232227 | 0.03831738  | 0.03522041  | 0.03658850  | 0.03433702  | 0.03430243  | 0.03494157  | 0.03715073  | 0.03690602  | 0.03575086  | 0.03487741  | 0.03578900  | \n",
       "| true_r_se | 0.018344938 | 0.01885384  | 0.01762707  | 0.01836251  | 0.01783496  | 0.01797581  | 0.01765945  | 0.01821076  | 0.01853163  | 0.01785488  | 0.01727918  | 0.01730412  | \n",
       "\n",
       "\n",
       "\n",
       "$BA\n",
       ":   \n",
       "| <!--/--> | 393 | 786 | 1178 | 1571 | 1964 | 2357 | 2750 | 3142 | 3535 | 3928 | 7856 | 11784 | \n",
       "|---|---|---|---|---|---|---|---|\n",
       "| h2 | 0.261422272 | 0.33691048  | 0.38656288  | 0.38563216  | 0.39029099  | 0.41026821  | 0.41485776  | 0.40542715  | 0.40338227  | 0.43397677  | 0.48590287  | 0.49015200  | \n",
       "| bias_r | 0.433528090 | 0.46597317  | 0.48993733  | 0.47962319  | 0.48140242  | 0.48641454  | 0.49000986  | 0.47867546  | 0.47619632  | 0.48153130  | 0.49087029  | 0.48662654  | \n",
       "| unbias_r | 0.856964219 | 0.80994087  | 0.79637977  | 0.78169169  | 0.77780616  | 0.76438712  | 0.77006558  | 0.76199017  | 0.76129825  | 0.73901520  | 0.70974282  | 0.70099570  | \n",
       "| true_r | 0.599023580 | 0.61925680  | 0.64085469  | 0.63740978  | 0.64284538  | 0.64572965  | 0.65079259  | 0.64328962  | 0.64262656  | 0.64633091  | 0.65125759  | 0.65104441  | \n",
       "| h2_se | 0.009123414 | 0.01289417  | 0.01628844  | 0.01957944  | 0.01851311  | 0.01721825  | 0.02148388  | 0.02105453  | 0.02449800  | 0.02205300  | 0.02315900  | 0.02173439  | \n",
       "| bias_r_se | 0.024104258 | 0.02199523  | 0.02156292  | 0.02253154  | 0.02204420  | 0.02245592  | 0.02207590  | 0.02205870  | 0.02344797  | 0.02258351  | 0.02174710  | 0.02296211  | \n",
       "| unbias_r_se | 0.059462784 | 0.04786029  | 0.04685663  | 0.04755170  | 0.04315605  | 0.04043590  | 0.04563594  | 0.04695656  | 0.04892665  | 0.04353270  | 0.03616681  | 0.03953214  | \n",
       "| true_r_se | 0.018718606 | 0.01864124  | 0.01796454  | 0.01820245  | 0.01834277  | 0.01868864  | 0.01726350  | 0.01814282  | 0.01922628  | 0.01808371  | 0.01671852  | 0.01737887  | \n",
       "\n",
       "\n",
       "\n",
       "$BB\n",
       ":   \n",
       "| <!--/--> | 393 | 786 | 1178 | 1571 | 1964 | 2357 | 2750 | 3142 | 3535 | 3928 | 7856 | 11784 | \n",
       "|---|---|---|---|---|---|---|---|\n",
       "| h2 | 0.266753413 | 0.33144920  | 0.40115229  | 0.39079871  | 0.40225208  | 0.40669947  | 0.42976112  | 0.42357203  | 0.40650199  | 0.42045423  | 0.45618528  | 0.45101705  | \n",
       "| bias_r | 0.434493490 | 0.46926378  | 0.49209898  | 0.48443387  | 0.48331787  | 0.48772538  | 0.49261601  | 0.48260829  | 0.47897299  | 0.48296699  | 0.49178513  | 0.48688875  | \n",
       "| unbias_r | 0.850406855 | 0.82309614  | 0.78258488  | 0.78241769  | 0.76868121  | 0.76989612  | 0.75976429  | 0.74964415  | 0.76014894  | 0.75034777  | 0.73602637  | 0.73141142  | \n",
       "| true_r | 0.592078212 | 0.61597760  | 0.63367578  | 0.63413479  | 0.63984079  | 0.64113814  | 0.64856802  | 0.64406691  | 0.64114338  | 0.64592535  | 0.65289620  | 0.65102018  | \n",
       "| h2_se | 0.009672289 | 0.01224396  | 0.01496450  | 0.01614697  | 0.01507310  | 0.01502973  | 0.01940411  | 0.01952781  | 0.01841774  | 0.01819044  | 0.02119979  | 0.01849331  | \n",
       "| bias_r_se | 0.024007254 | 0.02207014  | 0.02153158  | 0.02233918  | 0.02147075  | 0.02196739  | 0.02126814  | 0.02247380  | 0.02336795  | 0.02328153  | 0.02186292  | 0.02171174  | \n",
       "| unbias_r_se | 0.059041799 | 0.05062534  | 0.04188547  | 0.04611026  | 0.04338203  | 0.04114575  | 0.04446837  | 0.04484918  | 0.04877351  | 0.04180863  | 0.04229817  | 0.04119455  | \n",
       "| true_r_se | 0.019653163 | 0.01885724  | 0.01821224  | 0.01959548  | 0.01906572  | 0.01861276  | 0.01753673  | 0.01847607  | 0.01925085  | 0.01895782  | 0.01707054  | 0.01651115  | \n",
       "\n",
       "\n",
       "\n",
       "$BC\n",
       ":   \n",
       "| <!--/--> | 393 | 786 | 1178 | 1571 | 1964 | 2357 | 2750 | 3142 | 3535 | 3928 | 7856 | 11784 | \n",
       "|---|---|---|---|---|---|---|---|\n",
       "| h2 | 0.271493254 | 0.337377075 | 0.38637825  | 0.37046251  | 0.38850086  | 0.39095005  | 0.39810183  | 0.38481682  | 0.38461510  | 0.39148989  | 0.42744127  | 0.42084807  | \n",
       "| bias_r | 0.436332112 | 0.470455932 | 0.49379882  | 0.47937379  | 0.48174177  | 0.48437185  | 0.48914214  | 0.47970694  | 0.47832631  | 0.48211181  | 0.48958200  | 0.48258365  | \n",
       "| unbias_r | 0.845516441 | 0.813970995 | 0.80003156  | 0.79416384  | 0.77721055  | 0.78164944  | 0.78001000  | 0.78026232  | 0.77899676  | 0.77773144  | 0.75679668  | 0.75074626  | \n",
       "| true_r | 0.597985291 | 0.619809100 | 0.64321750  | 0.63653582  | 0.64575183  | 0.64356433  | 0.65137362  | 0.64398012  | 0.64279086  | 0.64630398  | 0.65227900  | 0.64762563  | \n",
       "| h2_se | 0.009140729 | 0.008068787 | 0.01321310  | 0.01395112  | 0.01409730  | 0.01554817  | 0.01297412  | 0.01542625  | 0.01716526  | 0.01578615  | 0.01867713  | 0.02116580  | \n",
       "| bias_r_se | 0.024088139 | 0.022954699 | 0.02156381  | 0.02246556  | 0.02203973  | 0.02258453  | 0.02228425  | 0.02313511  | 0.02289354  | 0.02196765  | 0.02356289  | 0.02353916  | \n",
       "| unbias_r_se | 0.057447919 | 0.046056350 | 0.04309909  | 0.04603807  | 0.04050371  | 0.04566401  | 0.04236389  | 0.04681475  | 0.04650312  | 0.04519661  | 0.04679040  | 0.04219058  | \n",
       "| true_r_se | 0.018967200 | 0.019025288 | 0.01740178  | 0.01820951  | 0.01812834  | 0.01867814  | 0.01780247  | 0.01827756  | 0.01851811  | 0.01731570  | 0.01782920  | 0.01813067  | \n",
       "\n",
       "\n",
       "\n",
       "$BL\n",
       ":   \n",
       "| <!--/--> | 393 | 786 | 1178 | 1571 | 1964 | 2357 | 2750 | 3142 | 3535 | 3928 | 7856 | 11784 | \n",
       "|---|---|---|---|---|---|---|---|\n",
       "| h2 | 0.24646461 | 0.30277414 | 0.34755792 | 0.33527230 | 0.35307615 | 0.35579692 | 0.36955515 | 0.35515848 | 0.34962798 | 0.36912040 | 0.43565150 | 0.45970960 | \n",
       "| bias_r | 0.43483008 | 0.47023219 | 0.48754319 | 0.47711396 | 0.47913709 | 0.48142069 | 0.48889530 | 0.47767693 | 0.47693143 | 0.48222360 | 0.48924243 | 0.48683691 | \n",
       "| unbias_r | 0.88982503 | 0.86437245 | 0.83583826 | 0.83291256 | 0.82002798 | 0.81565231 | 0.81498614 | 0.81184018 | 0.81880166 | 0.80279333 | 0.74868839 | 0.72774985 | \n",
       "| true_r | 0.59921738 | 0.62097851 | 0.63929700 | 0.63657584 | 0.64196983 | 0.64257937 | 0.64970584 | 0.64369956 | 0.64136225 | 0.64645369 | 0.65196534 | 0.64954343 | \n",
       "| h2_se | 0.01127377 | 0.01197376 | 0.01645107 | 0.01623301 | 0.02114777 | 0.01814820 | 0.01924497 | 0.01841056 | 0.01975917 | 0.01821738 | 0.02142664 | 0.02436858 | \n",
       "| bias_r_se | 0.02441423 | 0.02221192 | 0.02225650 | 0.02289488 | 0.02183776 | 0.02282409 | 0.02180984 | 0.02351240 | 0.02361574 | 0.02267446 | 0.02163194 | 0.02176317 | \n",
       "| unbias_r_se | 0.06655572 | 0.05494118 | 0.04883836 | 0.04941354 | 0.05216961 | 0.04695764 | 0.04882537 | 0.05117838 | 0.05381656 | 0.04728181 | 0.04148848 | 0.04422894 | \n",
       "| true_r_se | 0.01888144 | 0.01918698 | 0.01807389 | 0.01872343 | 0.01832461 | 0.01844652 | 0.01683831 | 0.01796367 | 0.01929765 | 0.01779710 | 0.01704868 | 0.01658078 | \n",
       "\n",
       "\n",
       "\n",
       "\n",
       "\n"
      ],
      "text/plain": [
       "$GBLUP\n",
       "                    393        786       1178       1571       1964       2357\n",
       "h2          0.363310541 0.44976490 0.50848833 0.49554165 0.51455202 0.52579918\n",
       "bias_r      0.435327191 0.46824804 0.48504048 0.47648301 0.48073862 0.48390766\n",
       "unbias_r    0.727108820 0.70122527 0.68301680 0.67983450 0.67279724 0.67003669\n",
       "true_r      0.603680908 0.62532324 0.64376388 0.63969405 0.64593359 0.64612511\n",
       "h2_se       0.009880405 0.01037233 0.01360362 0.01293085 0.01376099 0.01478906\n",
       "bias_r_se   0.024242081 0.02230301 0.02213494 0.02257555 0.02193064 0.02207663\n",
       "unbias_r_se 0.047232227 0.03831738 0.03522041 0.03658850 0.03433702 0.03430243\n",
       "true_r_se   0.018344938 0.01885384 0.01762707 0.01836251 0.01783496 0.01797581\n",
       "                  2750       3142       3535       3928       7856      11784\n",
       "h2          0.53275068 0.51051618 0.51123960 0.52808219 0.55792586 0.54972511\n",
       "bias_r      0.48682878 0.47732866 0.47688085 0.48109928 0.48787441 0.48279206\n",
       "unbias_r    0.66994760 0.67141752 0.67022667 0.66517193 0.65685898 0.65535330\n",
       "true_r      0.65105900 0.64418767 0.64377149 0.64709544 0.65177439 0.64906590\n",
       "h2_se       0.01534238 0.01535742 0.01522410 0.01555636 0.01951229 0.02028223\n",
       "bias_r_se   0.02229069 0.02316927 0.02318196 0.02275252 0.02242564 0.02258238\n",
       "unbias_r_se 0.03494157 0.03715073 0.03690602 0.03575086 0.03487741 0.03578900\n",
       "true_r_se   0.01765945 0.01821076 0.01853163 0.01785488 0.01727918 0.01730412\n",
       "\n",
       "$BA\n",
       "                    393        786       1178       1571       1964       2357\n",
       "h2          0.261422272 0.33691048 0.38656288 0.38563216 0.39029099 0.41026821\n",
       "bias_r      0.433528090 0.46597317 0.48993733 0.47962319 0.48140242 0.48641454\n",
       "unbias_r    0.856964219 0.80994087 0.79637977 0.78169169 0.77780616 0.76438712\n",
       "true_r      0.599023580 0.61925680 0.64085469 0.63740978 0.64284538 0.64572965\n",
       "h2_se       0.009123414 0.01289417 0.01628844 0.01957944 0.01851311 0.01721825\n",
       "bias_r_se   0.024104258 0.02199523 0.02156292 0.02253154 0.02204420 0.02245592\n",
       "unbias_r_se 0.059462784 0.04786029 0.04685663 0.04755170 0.04315605 0.04043590\n",
       "true_r_se   0.018718606 0.01864124 0.01796454 0.01820245 0.01834277 0.01868864\n",
       "                  2750       3142       3535       3928       7856      11784\n",
       "h2          0.41485776 0.40542715 0.40338227 0.43397677 0.48590287 0.49015200\n",
       "bias_r      0.49000986 0.47867546 0.47619632 0.48153130 0.49087029 0.48662654\n",
       "unbias_r    0.77006558 0.76199017 0.76129825 0.73901520 0.70974282 0.70099570\n",
       "true_r      0.65079259 0.64328962 0.64262656 0.64633091 0.65125759 0.65104441\n",
       "h2_se       0.02148388 0.02105453 0.02449800 0.02205300 0.02315900 0.02173439\n",
       "bias_r_se   0.02207590 0.02205870 0.02344797 0.02258351 0.02174710 0.02296211\n",
       "unbias_r_se 0.04563594 0.04695656 0.04892665 0.04353270 0.03616681 0.03953214\n",
       "true_r_se   0.01726350 0.01814282 0.01922628 0.01808371 0.01671852 0.01737887\n",
       "\n",
       "$BB\n",
       "                    393        786       1178       1571       1964       2357\n",
       "h2          0.266753413 0.33144920 0.40115229 0.39079871 0.40225208 0.40669947\n",
       "bias_r      0.434493490 0.46926378 0.49209898 0.48443387 0.48331787 0.48772538\n",
       "unbias_r    0.850406855 0.82309614 0.78258488 0.78241769 0.76868121 0.76989612\n",
       "true_r      0.592078212 0.61597760 0.63367578 0.63413479 0.63984079 0.64113814\n",
       "h2_se       0.009672289 0.01224396 0.01496450 0.01614697 0.01507310 0.01502973\n",
       "bias_r_se   0.024007254 0.02207014 0.02153158 0.02233918 0.02147075 0.02196739\n",
       "unbias_r_se 0.059041799 0.05062534 0.04188547 0.04611026 0.04338203 0.04114575\n",
       "true_r_se   0.019653163 0.01885724 0.01821224 0.01959548 0.01906572 0.01861276\n",
       "                  2750       3142       3535       3928       7856      11784\n",
       "h2          0.42976112 0.42357203 0.40650199 0.42045423 0.45618528 0.45101705\n",
       "bias_r      0.49261601 0.48260829 0.47897299 0.48296699 0.49178513 0.48688875\n",
       "unbias_r    0.75976429 0.74964415 0.76014894 0.75034777 0.73602637 0.73141142\n",
       "true_r      0.64856802 0.64406691 0.64114338 0.64592535 0.65289620 0.65102018\n",
       "h2_se       0.01940411 0.01952781 0.01841774 0.01819044 0.02119979 0.01849331\n",
       "bias_r_se   0.02126814 0.02247380 0.02336795 0.02328153 0.02186292 0.02171174\n",
       "unbias_r_se 0.04446837 0.04484918 0.04877351 0.04180863 0.04229817 0.04119455\n",
       "true_r_se   0.01753673 0.01847607 0.01925085 0.01895782 0.01707054 0.01651115\n",
       "\n",
       "$BC\n",
       "                    393         786       1178       1571       1964       2357\n",
       "h2          0.271493254 0.337377075 0.38637825 0.37046251 0.38850086 0.39095005\n",
       "bias_r      0.436332112 0.470455932 0.49379882 0.47937379 0.48174177 0.48437185\n",
       "unbias_r    0.845516441 0.813970995 0.80003156 0.79416384 0.77721055 0.78164944\n",
       "true_r      0.597985291 0.619809100 0.64321750 0.63653582 0.64575183 0.64356433\n",
       "h2_se       0.009140729 0.008068787 0.01321310 0.01395112 0.01409730 0.01554817\n",
       "bias_r_se   0.024088139 0.022954699 0.02156381 0.02246556 0.02203973 0.02258453\n",
       "unbias_r_se 0.057447919 0.046056350 0.04309909 0.04603807 0.04050371 0.04566401\n",
       "true_r_se   0.018967200 0.019025288 0.01740178 0.01820951 0.01812834 0.01867814\n",
       "                  2750       3142       3535       3928       7856      11784\n",
       "h2          0.39810183 0.38481682 0.38461510 0.39148989 0.42744127 0.42084807\n",
       "bias_r      0.48914214 0.47970694 0.47832631 0.48211181 0.48958200 0.48258365\n",
       "unbias_r    0.78001000 0.78026232 0.77899676 0.77773144 0.75679668 0.75074626\n",
       "true_r      0.65137362 0.64398012 0.64279086 0.64630398 0.65227900 0.64762563\n",
       "h2_se       0.01297412 0.01542625 0.01716526 0.01578615 0.01867713 0.02116580\n",
       "bias_r_se   0.02228425 0.02313511 0.02289354 0.02196765 0.02356289 0.02353916\n",
       "unbias_r_se 0.04236389 0.04681475 0.04650312 0.04519661 0.04679040 0.04219058\n",
       "true_r_se   0.01780247 0.01827756 0.01851811 0.01731570 0.01782920 0.01813067\n",
       "\n",
       "$BL\n",
       "                   393        786       1178       1571       1964       2357\n",
       "h2          0.24646461 0.30277414 0.34755792 0.33527230 0.35307615 0.35579692\n",
       "bias_r      0.43483008 0.47023219 0.48754319 0.47711396 0.47913709 0.48142069\n",
       "unbias_r    0.88982503 0.86437245 0.83583826 0.83291256 0.82002798 0.81565231\n",
       "true_r      0.59921738 0.62097851 0.63929700 0.63657584 0.64196983 0.64257937\n",
       "h2_se       0.01127377 0.01197376 0.01645107 0.01623301 0.02114777 0.01814820\n",
       "bias_r_se   0.02441423 0.02221192 0.02225650 0.02289488 0.02183776 0.02282409\n",
       "unbias_r_se 0.06655572 0.05494118 0.04883836 0.04941354 0.05216961 0.04695764\n",
       "true_r_se   0.01888144 0.01918698 0.01807389 0.01872343 0.01832461 0.01844652\n",
       "                  2750       3142       3535       3928       7856      11784\n",
       "h2          0.36955515 0.35515848 0.34962798 0.36912040 0.43565150 0.45970960\n",
       "bias_r      0.48889530 0.47767693 0.47693143 0.48222360 0.48924243 0.48683691\n",
       "unbias_r    0.81498614 0.81184018 0.81880166 0.80279333 0.74868839 0.72774985\n",
       "true_r      0.64970584 0.64369956 0.64136225 0.64645369 0.65196534 0.64954343\n",
       "h2_se       0.01924497 0.01841056 0.01975917 0.01821738 0.02142664 0.02436858\n",
       "bias_r_se   0.02180984 0.02351240 0.02361574 0.02267446 0.02163194 0.02176317\n",
       "unbias_r_se 0.04882537 0.05117838 0.05381656 0.04728181 0.04148848 0.04422894\n",
       "true_r_se   0.01683831 0.01796367 0.01929765 0.01779710 0.01704868 0.01658078\n"
      ]
     },
     "metadata": {},
     "output_type": "display_data"
    }
   ],
   "source": [
    "(sum<-list(GBLUP=all_acc,\n",
    "                BA=all_accBA,\n",
    "                BB=all_accBB,\n",
    "                BC=all_accBC,\n",
    "                BL=all_accBL))"
   ]
  },
  {
   "cell_type": "code",
   "execution_count": 20,
   "metadata": {},
   "outputs": [],
   "source": [
    "#save to xlsx file\n",
    "library(\"xlsx\")\n",
    "write.xlsx(sum, \"2_4_result.xlsx\") "
   ]
  },
  {
   "cell_type": "code",
   "execution_count": null,
   "metadata": {},
   "outputs": [],
   "source": [
    "library(\"readxl\")\n",
    "plot<-read_excel(\"2_4_result.xlsx\")"
   ]
  }
 ],
 "metadata": {
  "kernelspec": {
   "display_name": "R",
   "language": "R",
   "name": "ir"
  },
  "language_info": {
   "codemirror_mode": "r",
   "file_extension": ".r",
   "mimetype": "text/x-r-source",
   "name": "R",
   "pygments_lexer": "r",
   "version": "3.5.1"
  }
 },
 "nbformat": 4,
 "nbformat_minor": 2
}
