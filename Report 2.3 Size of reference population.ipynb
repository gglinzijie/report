{
 "cells": [
  {
   "cell_type": "code",
   "execution_count": 1,
   "metadata": {},
   "outputs": [
    {
     "data": {
      "text/html": [
       "'windows'"
      ],
      "text/latex": [
       "'windows'"
      ],
      "text/markdown": [
       "'windows'"
      ],
      "text/plain": [
       "[1] \"windows\""
      ]
     },
     "metadata": {},
     "output_type": "display_data"
    },
    {
     "data": {
      "text/html": [
       "'R version 3.5.1 (2018-07-02)'"
      ],
      "text/latex": [
       "'R version 3.5.1 (2018-07-02)'"
      ],
      "text/markdown": [
       "'R version 3.5.1 (2018-07-02)'"
      ],
      "text/plain": [
       "[1] \"R version 3.5.1 (2018-07-02)\""
      ]
     },
     "metadata": {},
     "output_type": "display_data"
    },
    {
     "data": {
      "text/html": [
       "'Intel(R) Core(TM) i7-7700HQ CPU @ 2.80GHz'"
      ],
      "text/latex": [
       "'Intel(R) Core(TM) i7-7700HQ CPU @ 2.80GHz'"
      ],
      "text/markdown": [
       "'Intel(R) Core(TM) i7-7700HQ CPU @ 2.80GHz'"
      ],
      "text/plain": [
       "[1] \"Intel(R) Core(TM) i7-7700HQ CPU @ 2.80GHz\""
      ]
     },
     "metadata": {},
     "output_type": "display_data"
    },
    {
     "data": {
      "text/html": [
       "8"
      ],
      "text/latex": [
       "8"
      ],
      "text/markdown": [
       "8"
      ],
      "text/plain": [
       "[1] 8"
      ]
     },
     "metadata": {},
     "output_type": "display_data"
    },
    {
     "data": {
      "text/plain": [
       "8.59 GB"
      ]
     },
     "metadata": {},
     "output_type": "display_data"
    }
   ],
   "source": [
    "library(benchmarkme)\n",
    "get_platform_info()$OS.type\n",
    "get_r_version()$version.string\n",
    "get_cpu()$model_name;get_cpu()$no_of_cores\n",
    "get_ram()"
   ]
  },
  {
   "cell_type": "code",
   "execution_count": 2,
   "metadata": {},
   "outputs": [
    {
     "name": "stderr",
     "output_type": "stream",
     "text": [
      "(\"|-----------------------------------------------------|\")\n",
      "(\"|                      xbreed                         |\")\n",
      "(\"|    Genomic simulation of purebreds and crossbreds   |\")\n",
      "(\"|               March 2017 Version 1.0.1              |\")\n",
      "(\"|                                                     |\")\n",
      "(\"|             H.Esfandyari,A.C.Sorensen               |\")\n",
      "(\"| Center for Quantitative Qenetics and Genomics (QGG) |\")\n",
      "(\"|             Aarhus University,Denmark               |\")\n",
      "(\"|                                                     |\")\n",
      "(\"|-----------------------------------------------------|\")\n",
      "(\"|Questions and bugs: esfandyari.hadi@gmail.com        |\")\n",
      "(\"|Development of xbreed was supported by GenSAP.       |\")\n",
      "(\"|-----------------------------------------------------|\")\n"
     ]
    }
   ],
   "source": [
    "## Package was modified to allow complete cross mating\n",
    "#library(\"devtools\")\n",
    "#install_github(\"gglinzijie/xbreed\")\n",
    "library(\"xbreed\")"
   ]
  },
  {
   "cell_type": "markdown",
   "metadata": {},
   "source": [
    "# Genome specification"
   ]
  },
  {
   "cell_type": "code",
   "execution_count": 3,
   "metadata": {},
   "outputs": [
    {
     "data": {
      "text/html": [
       "3928"
      ],
      "text/latex": [
       "3928"
      ],
      "text/markdown": [
       "3928"
      ],
      "text/plain": [
       "[1] 3928"
      ]
     },
     "metadata": {},
     "output_type": "display_data"
    }
   ],
   "source": [
    "#Number of markers per chr from chapter 1\n",
    "lin_map<-read.table(\"raw.map\")\n",
    "m=1:22\n",
    "for(i in 1:22) {m[i]=dim(lin_map[lin_map$V1==i,])[1]}\n",
    "sum(m)\n",
    "#nf <- layout(1,widths=3, heights=4, TRUE)\n",
    "#barplot(m,col = \"cadetblue1\",ylim=c(0,400),xlim=c(0,23),cex.axis = 1.5,names.arg = )"
   ]
  },
  {
   "cell_type": "code",
   "execution_count": 4,
   "metadata": {},
   "outputs": [],
   "source": [
    "#data from chaptre 1\n",
    "geno<-read.table(\"Hetero_realigned_cov10_filtered3.raw\")\n",
    "pheno<-read.csv(\"2017heteroPheno.csv\", header=T)\n",
    "attach(pheno)"
   ]
  },
  {
   "cell_type": "code",
   "execution_count": 5,
   "metadata": {},
   "outputs": [],
   "source": [
    "#parameter of genome\n",
    "no.chr<-22\n",
    "genome<-data.frame(matrix(NA, nrow=no.chr, ncol=6))\n",
    "names(genome)<-c(\"chr\",\"len\",\"nmrk\",\"mpos\",\"nqtl\",\"qpos\")\n",
    "genome$chr<-c(1:no.chr) #Chromosome id from 1 to 22\n",
    "genome$len<-c(200,rep(100,21))#Chromosome length in cM\n",
    "genome$nmrk<-c(m) #Number of markers, 3928 in total \n",
    "genome$mpos<-c('even') \n",
    "genome$nqtl<-c(40) #Number of qtl  40*22 = 880 in total\n",
    "genome$qpos<-c('rnd')"
   ]
  },
  {
   "cell_type": "markdown",
   "metadata": {},
   "source": [
    "# Historiacal population"
   ]
  },
  {
   "cell_type": "code",
   "execution_count": 6,
   "metadata": {},
   "outputs": [
    {
     "name": "stdout",
     "output_type": "stream",
     "text": [
      "---sel_seq_qtl is missing, it has been set to default value of 0\n",
      "---sel_seq_mrk is missing, it has been set to default value of 0\n",
      "Historical pop is initialized...\n",
      "Simulating trait ...\n",
      "Output data preparation ...\n",
      "Establishment of historical population completed\n"
     ]
    }
   ],
   "source": [
    "#Historical population \n",
    "hp<-make_hp(hpsize=1000 ,ng=5000,h2=0.654,d2=0,phen_var=84,\n",
    "            genome=genome,mutr=2.5*10**-4,laf=1)"
   ]
  },
  {
   "cell_type": "code",
   "execution_count": 7,
   "metadata": {},
   "outputs": [
    {
     "data": {
      "text/html": [
       "0.5"
      ],
      "text/latex": [
       "0.5"
      ],
      "text/markdown": [
       "0.5"
      ],
      "text/plain": [
       "[1] 0.5"
      ]
     },
     "metadata": {},
     "output_type": "display_data"
    },
    {
     "data": {
      "text/html": [
       "0.333333333333333"
      ],
      "text/latex": [
       "0.333333333333333"
      ],
      "text/markdown": [
       "0.333333333333333"
      ],
      "text/plain": [
       "[1] 0.3333333"
      ]
     },
     "metadata": {},
     "output_type": "display_data"
    },
    {
     "data": {
      "text/html": [
       "0.398165671623391"
      ],
      "text/latex": [
       "0.398165671623391"
      ],
      "text/markdown": [
       "0.398165671623391"
      ],
      "text/plain": [
       "[1] 0.3981657"
      ]
     },
     "metadata": {},
     "output_type": "display_data"
    }
   ],
   "source": [
    "#validation\n",
    "mutr<-2.5*10**-4\n",
    "ne<-1000\n",
    "k<-2 \n",
    "Fneu<-4*ne*mutr\n",
    "(Expected_het1<-Fneu/(1+Fneu))\n",
    "(Expected_het1<-1-((1+((Fneu)/(k-1)))/(1+((Fneu*k)/(k-1)))))\n",
    "(het_observed<-mean(2*(hp$freqMrk[,3]*hp$freqMrk[,4])))"
   ]
  },
  {
   "cell_type": "code",
   "execution_count": 8,
   "metadata": {},
   "outputs": [],
   "source": [
    "Male_founders<-data.frame(number=10,select='rnd')\n",
    "Female_founders<-data.frame(number=10,select='rnd')"
   ]
  },
  {
   "cell_type": "code",
   "execution_count": 9,
   "metadata": {},
   "outputs": [],
   "source": [
    "Selection<-data.frame(matrix(NA, nrow=2, ncol=3))\n",
    "names(Selection)<-c('Number','type','Value') \n",
    "Selection$Number[1:2]<-c(10,10)\n",
    "Selection$type[1:2]<-c('rnd','rnd')\n",
    "Selection$Value[1:2]<-c('l','l')"
   ]
  },
  {
   "cell_type": "code",
   "execution_count": 10,
   "metadata": {},
   "outputs": [],
   "source": [
    "sh_output<-data.frame(matrix(NA, nrow=1, ncol=4))\n",
    "names(sh_output)<-c(\"data\",\"qtl\",\"freq_mrk\",\"marker\")\n",
    "sh_output[1]<-c(1) \n",
    "sh_output[2]<-c(1) \n",
    "sh_output[3]<-c(1)\n",
    "sh_output[4]<-c(1)"
   ]
  },
  {
   "cell_type": "code",
   "execution_count": 11,
   "metadata": {
    "scrolled": true
   },
   "outputs": [
    {
     "name": "stdout",
     "output_type": "stream",
     "text": [
      "Controlling input data ...\n",
      "Intializing base population ...\n",
      "Generation 0 started ......... \n",
      "Generation 0 is finished. Time taken: 23.10031\n",
      "Generation 1 started ......... \n",
      "Generation 1 is finished. Time taken: 29.10541\n",
      "Output data preparation ...\n",
      "Writing output files ...\n",
      "Sampling hp is done!\n"
     ]
    }
   ],
   "source": [
    "#10 sires and 10 dams perform complete cross; 200 eggs were produced per dam.\n",
    "RP<-sample_hp(hp_out=hp,Male_founders= Male_founders,\n",
    "              Female_founders=Female_founders,ng=1,Selection=Selection, \n",
    "              litter_size=30,saveAt=\"SNP3928\",sh_output=sh_output,Display=FALSE)"
   ]
  },
  {
   "cell_type": "code",
   "execution_count": 12,
   "metadata": {},
   "outputs": [],
   "source": [
    "#function for calculate the allele coding, which is 0, 1, 2\n",
    "bin_snp<-function(mat){\n",
    "s1<-seq(1,ncol(mat),2)\n",
    "s2<-seq(2,ncol(mat),2)\n",
    "a1<-mat[,s1]+mat[,s2]\n",
    "a1[a1==3]=1\n",
    "a1[a1==4]=0\n",
    "snp_code<-a1\n",
    "return(snp_code)\n",
    " }"
   ]
  },
  {
   "cell_type": "code",
   "execution_count": 17,
   "metadata": {},
   "outputs": [],
   "source": [
    "##geno and pheno from simulated data\n",
    "pheno<-RP$output[[2]]$data$phen\n",
    "tbvp<-RP$output[[2]]$data$tbvp\n",
    "n<-bin_snp(RP$output[[2]]$mrk[,3:7858])\n",
    "x<-as.matrix(n)-1\n",
    "colnames(x)<-1:3928\n",
    "row.names(x)<-1:3000"
   ]
  },
  {
   "cell_type": "code",
   "execution_count": 19,
   "metadata": {},
   "outputs": [],
   "source": [
    "write.table(x,\"2.3_geno.txt\")\n",
    "write.table(pheno,\"2.3_pheno.txt\")\n",
    "write.table(tbvp,\"2.3_tbvp.txt\")"
   ]
  },
  {
   "cell_type": "code",
   "execution_count": 2,
   "metadata": {},
   "outputs": [],
   "source": [
    "# Simulation result\n",
    "x<-as.matrix(read.table(\"2.3_geno.txt\"))\n",
    "pheno<-as.numeric(unlist(read.table(\"2.3_pheno.txt\")))\n",
    "tbvp<-as.numeric(unlist(read.table(\"2.3_tbvp.txt\")))"
   ]
  },
  {
   "cell_type": "code",
   "execution_count": 3,
   "metadata": {},
   "outputs": [
    {
     "name": "stderr",
     "output_type": "stream",
     "text": [
      "Loading required package: foreach\n",
      "Loading required package: iterators\n",
      "Loading required package: parallel\n"
     ]
    },
    {
     "data": {
      "text/plain": [
       "[1] '4.6'"
      ]
     },
     "metadata": {},
     "output_type": "display_data"
    }
   ],
   "source": [
    "##load packages\n",
    "library(doParallel)\n",
    "library(foreach)\n",
    "cl<-makeCluster(8) \n",
    "repeats <- 10\n",
    "n.fold <- 5 \n",
    "acc<-list()\n",
    "library(rrBLUP)\n",
    "packageVersion(\"rrBLUP\") "
   ]
  },
  {
   "cell_type": "code",
   "execution_count": 44,
   "metadata": {},
   "outputs": [],
   "source": [
    "cal_se<-function(acc){sd(acc)/sqrt(repeats-1)}"
   ]
  },
  {
   "cell_type": "code",
   "execution_count": 45,
   "metadata": {},
   "outputs": [],
   "source": [
    "#function for calculating the accuracy of GP with varying size of reference population\n",
    "cal_acc<-function(x,n.sample){\n",
    "set.seed(100)\n",
    "id<-sample(1:dim(x)[1],n.sample)\n",
    "#relationship matrix (Endelman at al. 2011)\n",
    "A <- A.mat(x[id,], n.core=8)\n",
    "row.names(A)=1:n.sample;colnames(A)=1:n.sample\n",
    "data <- data.frame(tbcw=pheno[id],tbvp=tbvp[id],gid=1:n.sample)\n",
    "result<-data.frame(heritability=rep(NA,50),\n",
    "                   bias_r=rep(NA,50),\n",
    "                   unbias_r=rep(NA,50),\n",
    "                   true_r=rep(NA,50))                   \n",
    "registerDoParallel(cl)\n",
    "foreach(j=1:repeats,.combine = \"rbind\") %do% {\n",
    "        set.seed(100+3*j+1)\n",
    "        id <- sample(1:n.sample %% n.fold) + 1 \n",
    "        foreach(i=1:n.fold,.packages=\"rrBLUP\") %do% {\n",
    "         bcw_test <- data\n",
    "         bcw_test$tbcw[id == i] <- NA\n",
    "         res <- kin.blup(bcw_test, K=A, geno=\"gid\", pheno=\"tbcw\")\n",
    "         result[5*(j-1)+i,1]<-res$Vg/(res$Vg+res$Ve)\n",
    "         result[5*(j-1)+i,2]<-cor(data$tbcw[id==i],res$pred[id==i])\n",
    "         result[5*(j-1)+i,3]<-cor(data$tbcw[id==i],res$pred[id==i])/sqrt(res$Vg/(res$Vg+res$Ve))\n",
    "         result[5*(j-1)+i,4]<-cor(data$tbvp[id==i],res$pred[id==i])\n",
    "    }\n",
    "   }\n",
    "stopImplicitCluster()\n",
    "return(c(apply(result, 2, mean),apply(result,2,cal_se)))    \n",
    "}"
   ]
  },
  {
   "cell_type": "code",
   "execution_count": 46,
   "metadata": {},
   "outputs": [],
   "source": [
    "n.sample<-c(250,500,750,1000,1250,1500,1750,2000)\n",
    "all_acc<-matrix(NA,nrow = 8,ncol = length(n.sample))\n",
    "all_accBA<-all_accBB<-all_accBC<-all_accBL<-all_acc"
   ]
  },
  {
   "cell_type": "code",
   "execution_count": 47,
   "metadata": {},
   "outputs": [],
   "source": [
    "#implemente the caculation \n",
    "for (i in 1:length(n.sample)){\n",
    "    m<-n.sample[i]\n",
    "    all_acc[,i]<-cal_acc(x,m)}"
   ]
  },
  {
   "cell_type": "code",
   "execution_count": 70,
   "metadata": {},
   "outputs": [],
   "source": [
    "colnames(all_acc)<-n.sample\n",
    "row.names(all_acc)<-c(\"h2\",\"bias_r\",\"unbias_r\",\"true_r\",\"h2_se\",\"bias_r_se\",\"unbias_r_se\",\"true_r_se\")"
   ]
  },
  {
   "cell_type": "code",
   "execution_count": 51,
   "metadata": {},
   "outputs": [
    {
     "data": {
      "text/plain": [
       "[1] '1.0.5'"
      ]
     },
     "metadata": {},
     "output_type": "display_data"
    }
   ],
   "source": [
    "library(\"BGLR\")\n",
    "packageVersion(\"BGLR\") "
   ]
  },
  {
   "cell_type": "code",
   "execution_count": 53,
   "metadata": {},
   "outputs": [],
   "source": [
    "cal_accB<-function(x,n.sample,M){\n",
    "set.seed(100)\n",
    "id<-sample(1:dim(x)[1],n.sample)\n",
    "x1<-x[id,]\n",
    "data <- data.frame(tbcw=pheno[id],tbvp=tbvp[id],gid=1:n.sample)\n",
    "result<-data.frame(heritability=rep(NA,50),\n",
    "                   bias_r=rep(NA,50),\n",
    "                   unbias_r=rep(NA,50),\n",
    "                   true_r=rep(NA,50))                   \n",
    "registerDoParallel(cl)\n",
    "foreach(j=1:repeats,.combine = \"rbind\") %do% {\n",
    "        set.seed(100+3*j+1)\n",
    "        id <- sample(1:n.sample %% n.fold) + 1 \n",
    "        foreach(i=1:n.fold,.packages=\"BGLR\") %do% {\n",
    "         bcw_test <- data\n",
    "         bcw_test$tbcw[id == i] <- NA\n",
    "         fm=BGLR(y=bcw_test$tbcw,ETA=list(list(X=x1,model=M,saveEffects=T,saveAt='fm_')),nIter=2000,burnIn=1000,verbose=F)\n",
    "         varU=var(x%*%fm$ETA[[1]]$b)\n",
    "         varE=fm$varE\n",
    "         h2=varU/(varU+varE)\n",
    "         result[5*(j-1)+i,1]<-h2\n",
    "         result[5*(j-1)+i,2]<-cor(data$tbcw[id == i],fm$yHat[id == i])\n",
    "         result[5*(j-1)+i,3]<-cor(data$tbcw[id==i],fm$yHat[id == i])/sqrt(h2)\n",
    "         result[5*(j-1)+i,4]<-cor(data$tbvp[id==i],fm$yHat[id == i])\n",
    "    }\n",
    "   }\n",
    "stopImplicitCluster()\n",
    "return(c(apply(result, 2, mean),apply(result,2,cal_se)))    \n",
    "}"
   ]
  },
  {
   "cell_type": "code",
   "execution_count": 54,
   "metadata": {
    "scrolled": true
   },
   "outputs": [],
   "source": [
    "for (i in 1:length(n.sample)){all_accBA[,i]<-cal_accB(x,n.sample[i],\"BayesA\")}"
   ]
  },
  {
   "cell_type": "code",
   "execution_count": 55,
   "metadata": {},
   "outputs": [],
   "source": [
    "for (i in 1:length(n.sample)){all_accBB[,i]<-cal_accB(x,n.sample[i],\"BayesB\")}"
   ]
  },
  {
   "cell_type": "code",
   "execution_count": 56,
   "metadata": {},
   "outputs": [],
   "source": [
    "for (i in 1:length(n.sample)){all_accBC[,i]<-cal_accB(x,n.sample[i],\"BayesC\")}"
   ]
  },
  {
   "cell_type": "code",
   "execution_count": null,
   "metadata": {},
   "outputs": [],
   "source": [
    "for (i in 1:length(n.sample)){all_accBL[,i]<-cal_accB(x,n.sample[i],\"BL\")}"
   ]
  },
  {
   "cell_type": "code",
   "execution_count": 58,
   "metadata": {},
   "outputs": [],
   "source": [
    "colnames(all_accBA)<-n.sample\n",
    "colnames(all_accBB)<-n.sample\n",
    "colnames(all_accBC)<-n.sample\n",
    "colnames(all_accBL)<-n.sample\n",
    "row.names(all_accBA)<-c(\"h2\",\"bias_r\",\"unbias_r\",\"true_r\",\"h2_se\",\"bias_r_se\",\"unbias_r_se\",\"true_r_se\")\n",
    "row.names(all_accBB)<-c(\"h2\",\"bias_r\",\"unbias_r\",\"true_r\",\"h2_se\",\"bias_r_se\",\"unbias_r_se\",\"true_r_se\")\n",
    "row.names(all_accBC)<-c(\"h2\",\"bias_r\",\"unbias_r\",\"true_r\",\"h2_se\",\"bias_r_se\",\"unbias_r_se\",\"true_r_se\")\n",
    "row.names(all_accBL)<-c(\"h2\",\"bias_r\",\"unbias_r\",\"true_r\",\"h2_se\",\"bias_r_se\",\"unbias_r_se\",\"true_r_se\")"
   ]
  },
  {
   "cell_type": "code",
   "execution_count": 68,
   "metadata": {},
   "outputs": [
    {
     "data": {
      "text/html": [
       "<dl>\n",
       "\t<dt>$GBLUP</dt>\n",
       "\t\t<dd><table>\n",
       "<thead><tr><th></th><th scope=col>250</th><th scope=col>500</th><th scope=col>750</th><th scope=col>1000</th><th scope=col>1250</th><th scope=col>1500</th><th scope=col>1750</th><th scope=col>2000</th></tr></thead>\n",
       "<tbody>\n",
       "\t<tr><th scope=row>h2</th><td>0.61374649 </td><td>0.66151828 </td><td>0.62638003 </td><td>0.589046184</td><td>0.590205106</td><td>0.538965250</td><td>0.550585342</td><td>0.553422955</td></tr>\n",
       "\t<tr><th scope=row>bias_r</th><td>0.52615287 </td><td>0.59066718 </td><td>0.61311733 </td><td>0.612229382</td><td>0.622635211</td><td>0.618401039</td><td>0.627044919</td><td>0.624070602</td></tr>\n",
       "\t<tr><th scope=row>unbias_r</th><td>0.67766917 </td><td>0.72842492 </td><td>0.77611581 </td><td>0.798653743</td><td>0.811682369</td><td>0.843208484</td><td>0.845964760</td><td>0.839417178</td></tr>\n",
       "\t<tr><th scope=row>true_r</th><td>0.62847095 </td><td>0.70519204 </td><td>0.73593335 </td><td>0.742633087</td><td>0.759736091</td><td>0.770348655</td><td>0.778467888</td><td>0.781107037</td></tr>\n",
       "\t<tr><th scope=row>h2_se</th><td>0.01914803 </td><td>0.01341505 </td><td>0.01046737 </td><td>0.009032739</td><td>0.008742087</td><td>0.007466956</td><td>0.007552235</td><td>0.006485728</td></tr>\n",
       "\t<tr><th scope=row>bias_r_se</th><td>0.03272688 </td><td>0.01757305 </td><td>0.01411353 </td><td>0.009910763</td><td>0.012712881</td><td>0.009400992</td><td>0.010754479</td><td>0.007665713</td></tr>\n",
       "\t<tr><th scope=row>unbias_r_se</th><td>0.04981851 </td><td>0.02700728 </td><td>0.02202480 </td><td>0.016303351</td><td>0.020552535</td><td>0.016156245</td><td>0.017848986</td><td>0.012572302</td></tr>\n",
       "\t<tr><th scope=row>true_r_se</th><td>0.02895124 </td><td>0.01652853 </td><td>0.01113805 </td><td>0.008747125</td><td>0.009285673</td><td>0.007661239</td><td>0.006509593</td><td>0.005460806</td></tr>\n",
       "</tbody>\n",
       "</table>\n",
       "</dd>\n",
       "\t<dt>$BA</dt>\n",
       "\t\t<dd><table>\n",
       "<thead><tr><th></th><th scope=col>250</th><th scope=col>500</th><th scope=col>750</th><th scope=col>1000</th><th scope=col>1250</th><th scope=col>1500</th><th scope=col>1750</th><th scope=col>2000</th></tr></thead>\n",
       "<tbody>\n",
       "\t<tr><th scope=row>h2</th><td>0.45848071 </td><td>0.53472558 </td><td>0.52430267 </td><td>0.501658040</td><td>0.517084160</td><td>0.483007638</td><td>0.494474698</td><td>0.496579539</td></tr>\n",
       "\t<tr><th scope=row>bias_r</th><td>0.52520301 </td><td>0.58773191 </td><td>0.61102204 </td><td>0.612440348</td><td>0.621496593</td><td>0.617813292</td><td>0.626234201</td><td>0.624623257</td></tr>\n",
       "\t<tr><th scope=row>unbias_r</th><td>0.78571959 </td><td>0.80683052 </td><td>0.84560657 </td><td>0.866151129</td><td>0.866027218</td><td>0.889876082</td><td>0.891465374</td><td>0.886844754</td></tr>\n",
       "\t<tr><th scope=row>true_r</th><td>0.62430712 </td><td>0.70215420 </td><td>0.73341234 </td><td>0.742202032</td><td>0.758133518</td><td>0.770238227</td><td>0.778396597</td><td>0.782160868</td></tr>\n",
       "\t<tr><th scope=row>h2_se</th><td>0.02158919 </td><td>0.01511794 </td><td>0.01019922 </td><td>0.008772201</td><td>0.008891447</td><td>0.006558783</td><td>0.006042465</td><td>0.004892278</td></tr>\n",
       "\t<tr><th scope=row>bias_r_se</th><td>0.03293448 </td><td>0.01724756 </td><td>0.01426437 </td><td>0.009945088</td><td>0.012838324</td><td>0.009369798</td><td>0.010816990</td><td>0.007498647</td></tr>\n",
       "\t<tr><th scope=row>unbias_r_se</th><td>0.05770812 </td><td>0.02947043 </td><td>0.02432385 </td><td>0.019272726</td><td>0.023402813</td><td>0.017233967</td><td>0.018999851</td><td>0.012959324</td></tr>\n",
       "\t<tr><th scope=row>true_r_se</th><td>0.02932096 </td><td>0.01581469 </td><td>0.01144214 </td><td>0.009018296</td><td>0.009341799</td><td>0.007764989</td><td>0.006444779</td><td>0.005361356</td></tr>\n",
       "</tbody>\n",
       "</table>\n",
       "</dd>\n",
       "\t<dt>$BB</dt>\n",
       "\t\t<dd><table>\n",
       "<thead><tr><th></th><th scope=col>250</th><th scope=col>500</th><th scope=col>750</th><th scope=col>1000</th><th scope=col>1250</th><th scope=col>1500</th><th scope=col>1750</th><th scope=col>2000</th></tr></thead>\n",
       "<tbody>\n",
       "\t<tr><th scope=row>h2</th><td>0.45318675 </td><td>0.52494109 </td><td>0.51342759 </td><td>0.506887842</td><td>0.514481595</td><td>0.485062033</td><td>0.49632055 </td><td>0.499289137</td></tr>\n",
       "\t<tr><th scope=row>bias_r</th><td>0.52892241 </td><td>0.58410825 </td><td>0.60996580 </td><td>0.609001936</td><td>0.621037661</td><td>0.616742284</td><td>0.62668268 </td><td>0.624899876</td></tr>\n",
       "\t<tr><th scope=row>unbias_r</th><td>0.79480890 </td><td>0.81026968 </td><td>0.85346791 </td><td>0.856666698</td><td>0.867259292</td><td>0.886449725</td><td>0.89051234 </td><td>0.884833191</td></tr>\n",
       "\t<tr><th scope=row>true_r</th><td>0.62860336 </td><td>0.69851765 </td><td>0.73339224 </td><td>0.738896906</td><td>0.758394600</td><td>0.770027671</td><td>0.77908701 </td><td>0.782121158</td></tr>\n",
       "\t<tr><th scope=row>h2_se</th><td>0.01822289 </td><td>0.01531372 </td><td>0.01061755 </td><td>0.007608989</td><td>0.007910858</td><td>0.006439136</td><td>0.00619046 </td><td>0.004880972</td></tr>\n",
       "\t<tr><th scope=row>bias_r_se</th><td>0.03167556 </td><td>0.01809348 </td><td>0.01433612 </td><td>0.010470768</td><td>0.012815330</td><td>0.009433192</td><td>0.01078630 </td><td>0.007341103</td></tr>\n",
       "\t<tr><th scope=row>unbias_r_se</th><td>0.05799226 </td><td>0.03331020 </td><td>0.02590237 </td><td>0.019587356</td><td>0.022483947</td><td>0.017255770</td><td>0.01930866 </td><td>0.012818272</td></tr>\n",
       "\t<tr><th scope=row>true_r_se</th><td>0.02753517 </td><td>0.01719777 </td><td>0.01169891 </td><td>0.008988851</td><td>0.009336268</td><td>0.007524399</td><td>0.00641765 </td><td>0.005075059</td></tr>\n",
       "</tbody>\n",
       "</table>\n",
       "</dd>\n",
       "\t<dt>$BC</dt>\n",
       "\t\t<dd><table>\n",
       "<thead><tr><th></th><th scope=col>250</th><th scope=col>500</th><th scope=col>750</th><th scope=col>1000</th><th scope=col>1250</th><th scope=col>1500</th><th scope=col>1750</th><th scope=col>2000</th></tr></thead>\n",
       "<tbody>\n",
       "\t<tr><th scope=row>h2</th><td>0.42610377 </td><td>0.51491449 </td><td>0.51869293 </td><td>0.501597354</td><td>0.513121145</td><td>0.484889709</td><td>0.494992054</td><td>0.497124389</td></tr>\n",
       "\t<tr><th scope=row>bias_r</th><td>0.52729656 </td><td>0.58839373 </td><td>0.61138309 </td><td>0.612144254</td><td>0.622766636</td><td>0.617799495</td><td>0.627053522</td><td>0.625026579</td></tr>\n",
       "\t<tr><th scope=row>unbias_r</th><td>0.81898467 </td><td>0.82351849 </td><td>0.85093225 </td><td>0.865576961</td><td>0.870883469</td><td>0.888097441</td><td>0.892207859</td><td>0.886932243</td></tr>\n",
       "\t<tr><th scope=row>true_r</th><td>0.62920738 </td><td>0.70324722 </td><td>0.73435424 </td><td>0.742013520</td><td>0.759662231</td><td>0.770416634</td><td>0.778793539</td><td>0.782399615</td></tr>\n",
       "\t<tr><th scope=row>h2_se</th><td>0.01797813 </td><td>0.01339821 </td><td>0.01019377 </td><td>0.007696794</td><td>0.007882710</td><td>0.006129328</td><td>0.005954221</td><td>0.004704548</td></tr>\n",
       "\t<tr><th scope=row>bias_r_se</th><td>0.03211061 </td><td>0.01774271 </td><td>0.01454208 </td><td>0.009927584</td><td>0.012574004</td><td>0.009583651</td><td>0.010784005</td><td>0.007607574</td></tr>\n",
       "\t<tr><th scope=row>unbias_r_se</th><td>0.06285096 </td><td>0.03233209 </td><td>0.02568238 </td><td>0.018805269</td><td>0.022569298</td><td>0.017485633</td><td>0.019235069</td><td>0.013168133</td></tr>\n",
       "\t<tr><th scope=row>true_r_se</th><td>0.02923708 </td><td>0.01644892 </td><td>0.01146920 </td><td>0.008682074</td><td>0.008997645</td><td>0.007675130</td><td>0.006541825</td><td>0.005365917</td></tr>\n",
       "</tbody>\n",
       "</table>\n",
       "</dd>\n",
       "\t<dt>$BL</dt>\n",
       "\t\t<dd><table>\n",
       "<thead><tr><th></th><th scope=col>250</th><th scope=col>500</th><th scope=col>750</th><th scope=col>1000</th><th scope=col>1250</th><th scope=col>1500</th><th scope=col>1750</th><th scope=col>2000</th></tr></thead>\n",
       "<tbody>\n",
       "\t<tr><th scope=row>h2</th><td>0.39409318 </td><td>0.48275543 </td><td>0.49530993 </td><td>0.49421636 </td><td>0.503485247</td><td>0.475186166</td><td>0.486700987</td><td>0.488379285</td></tr>\n",
       "\t<tr><th scope=row>bias_r</th><td>0.52833822 </td><td>0.58944311 </td><td>0.61111354 </td><td>0.61182745 </td><td>0.622132542</td><td>0.618424812</td><td>0.626976433</td><td>0.624117468</td></tr>\n",
       "\t<tr><th scope=row>unbias_r</th><td>0.86406294 </td><td>0.85321873 </td><td>0.87114253 </td><td>0.87248771 </td><td>0.878584226</td><td>0.898380201</td><td>0.899687342</td><td>0.893749585</td></tr>\n",
       "\t<tr><th scope=row>true_r</th><td>0.62894188 </td><td>0.70373449 </td><td>0.73430636 </td><td>0.74158715 </td><td>0.759315193</td><td>0.770101694</td><td>0.778576496</td><td>0.781011573</td></tr>\n",
       "\t<tr><th scope=row>h2_se</th><td>0.02877272 </td><td>0.01636530 </td><td>0.01320263 </td><td>0.01125664 </td><td>0.009175255</td><td>0.007015844</td><td>0.006136757</td><td>0.006045742</td></tr>\n",
       "\t<tr><th scope=row>bias_r_se</th><td>0.03245603 </td><td>0.01759253 </td><td>0.01399210 </td><td>0.01049572 </td><td>0.012659899</td><td>0.009558314</td><td>0.010785299</td><td>0.007688411</td></tr>\n",
       "\t<tr><th scope=row>unbias_r_se</th><td>0.07193673 </td><td>0.03410021 </td><td>0.02620216 </td><td>0.02150464 </td><td>0.023382355</td><td>0.018977341</td><td>0.019360734</td><td>0.014034726</td></tr>\n",
       "\t<tr><th scope=row>true_r_se</th><td>0.02866843 </td><td>0.01660683 </td><td>0.01116019 </td><td>0.00906740 </td><td>0.009448836</td><td>0.007754231</td><td>0.006501778</td><td>0.005628359</td></tr>\n",
       "</tbody>\n",
       "</table>\n",
       "</dd>\n",
       "</dl>\n"
      ],
      "text/latex": [
       "\\begin{description}\n",
       "\\item[\\$GBLUP] \\begin{tabular}{r|llllllll}\n",
       "  & 250 & 500 & 750 & 1000 & 1250 & 1500 & 1750 & 2000\\\\\n",
       "\\hline\n",
       "\th2 & 0.61374649  & 0.66151828  & 0.62638003  & 0.589046184 & 0.590205106 & 0.538965250 & 0.550585342 & 0.553422955\\\\\n",
       "\tbias\\_r & 0.52615287  & 0.59066718  & 0.61311733  & 0.612229382 & 0.622635211 & 0.618401039 & 0.627044919 & 0.624070602\\\\\n",
       "\tunbias\\_r & 0.67766917  & 0.72842492  & 0.77611581  & 0.798653743 & 0.811682369 & 0.843208484 & 0.845964760 & 0.839417178\\\\\n",
       "\ttrue\\_r & 0.62847095  & 0.70519204  & 0.73593335  & 0.742633087 & 0.759736091 & 0.770348655 & 0.778467888 & 0.781107037\\\\\n",
       "\th2\\_se & 0.01914803  & 0.01341505  & 0.01046737  & 0.009032739 & 0.008742087 & 0.007466956 & 0.007552235 & 0.006485728\\\\\n",
       "\tbias\\_r\\_se & 0.03272688  & 0.01757305  & 0.01411353  & 0.009910763 & 0.012712881 & 0.009400992 & 0.010754479 & 0.007665713\\\\\n",
       "\tunbias\\_r\\_se & 0.04981851  & 0.02700728  & 0.02202480  & 0.016303351 & 0.020552535 & 0.016156245 & 0.017848986 & 0.012572302\\\\\n",
       "\ttrue\\_r\\_se & 0.02895124  & 0.01652853  & 0.01113805  & 0.008747125 & 0.009285673 & 0.007661239 & 0.006509593 & 0.005460806\\\\\n",
       "\\end{tabular}\n",
       "\n",
       "\\item[\\$BA] \\begin{tabular}{r|llllllll}\n",
       "  & 250 & 500 & 750 & 1000 & 1250 & 1500 & 1750 & 2000\\\\\n",
       "\\hline\n",
       "\th2 & 0.45848071  & 0.53472558  & 0.52430267  & 0.501658040 & 0.517084160 & 0.483007638 & 0.494474698 & 0.496579539\\\\\n",
       "\tbias\\_r & 0.52520301  & 0.58773191  & 0.61102204  & 0.612440348 & 0.621496593 & 0.617813292 & 0.626234201 & 0.624623257\\\\\n",
       "\tunbias\\_r & 0.78571959  & 0.80683052  & 0.84560657  & 0.866151129 & 0.866027218 & 0.889876082 & 0.891465374 & 0.886844754\\\\\n",
       "\ttrue\\_r & 0.62430712  & 0.70215420  & 0.73341234  & 0.742202032 & 0.758133518 & 0.770238227 & 0.778396597 & 0.782160868\\\\\n",
       "\th2\\_se & 0.02158919  & 0.01511794  & 0.01019922  & 0.008772201 & 0.008891447 & 0.006558783 & 0.006042465 & 0.004892278\\\\\n",
       "\tbias\\_r\\_se & 0.03293448  & 0.01724756  & 0.01426437  & 0.009945088 & 0.012838324 & 0.009369798 & 0.010816990 & 0.007498647\\\\\n",
       "\tunbias\\_r\\_se & 0.05770812  & 0.02947043  & 0.02432385  & 0.019272726 & 0.023402813 & 0.017233967 & 0.018999851 & 0.012959324\\\\\n",
       "\ttrue\\_r\\_se & 0.02932096  & 0.01581469  & 0.01144214  & 0.009018296 & 0.009341799 & 0.007764989 & 0.006444779 & 0.005361356\\\\\n",
       "\\end{tabular}\n",
       "\n",
       "\\item[\\$BB] \\begin{tabular}{r|llllllll}\n",
       "  & 250 & 500 & 750 & 1000 & 1250 & 1500 & 1750 & 2000\\\\\n",
       "\\hline\n",
       "\th2 & 0.45318675  & 0.52494109  & 0.51342759  & 0.506887842 & 0.514481595 & 0.485062033 & 0.49632055  & 0.499289137\\\\\n",
       "\tbias\\_r & 0.52892241  & 0.58410825  & 0.60996580  & 0.609001936 & 0.621037661 & 0.616742284 & 0.62668268  & 0.624899876\\\\\n",
       "\tunbias\\_r & 0.79480890  & 0.81026968  & 0.85346791  & 0.856666698 & 0.867259292 & 0.886449725 & 0.89051234  & 0.884833191\\\\\n",
       "\ttrue\\_r & 0.62860336  & 0.69851765  & 0.73339224  & 0.738896906 & 0.758394600 & 0.770027671 & 0.77908701  & 0.782121158\\\\\n",
       "\th2\\_se & 0.01822289  & 0.01531372  & 0.01061755  & 0.007608989 & 0.007910858 & 0.006439136 & 0.00619046  & 0.004880972\\\\\n",
       "\tbias\\_r\\_se & 0.03167556  & 0.01809348  & 0.01433612  & 0.010470768 & 0.012815330 & 0.009433192 & 0.01078630  & 0.007341103\\\\\n",
       "\tunbias\\_r\\_se & 0.05799226  & 0.03331020  & 0.02590237  & 0.019587356 & 0.022483947 & 0.017255770 & 0.01930866  & 0.012818272\\\\\n",
       "\ttrue\\_r\\_se & 0.02753517  & 0.01719777  & 0.01169891  & 0.008988851 & 0.009336268 & 0.007524399 & 0.00641765  & 0.005075059\\\\\n",
       "\\end{tabular}\n",
       "\n",
       "\\item[\\$BC] \\begin{tabular}{r|llllllll}\n",
       "  & 250 & 500 & 750 & 1000 & 1250 & 1500 & 1750 & 2000\\\\\n",
       "\\hline\n",
       "\th2 & 0.42610377  & 0.51491449  & 0.51869293  & 0.501597354 & 0.513121145 & 0.484889709 & 0.494992054 & 0.497124389\\\\\n",
       "\tbias\\_r & 0.52729656  & 0.58839373  & 0.61138309  & 0.612144254 & 0.622766636 & 0.617799495 & 0.627053522 & 0.625026579\\\\\n",
       "\tunbias\\_r & 0.81898467  & 0.82351849  & 0.85093225  & 0.865576961 & 0.870883469 & 0.888097441 & 0.892207859 & 0.886932243\\\\\n",
       "\ttrue\\_r & 0.62920738  & 0.70324722  & 0.73435424  & 0.742013520 & 0.759662231 & 0.770416634 & 0.778793539 & 0.782399615\\\\\n",
       "\th2\\_se & 0.01797813  & 0.01339821  & 0.01019377  & 0.007696794 & 0.007882710 & 0.006129328 & 0.005954221 & 0.004704548\\\\\n",
       "\tbias\\_r\\_se & 0.03211061  & 0.01774271  & 0.01454208  & 0.009927584 & 0.012574004 & 0.009583651 & 0.010784005 & 0.007607574\\\\\n",
       "\tunbias\\_r\\_se & 0.06285096  & 0.03233209  & 0.02568238  & 0.018805269 & 0.022569298 & 0.017485633 & 0.019235069 & 0.013168133\\\\\n",
       "\ttrue\\_r\\_se & 0.02923708  & 0.01644892  & 0.01146920  & 0.008682074 & 0.008997645 & 0.007675130 & 0.006541825 & 0.005365917\\\\\n",
       "\\end{tabular}\n",
       "\n",
       "\\item[\\$BL] \\begin{tabular}{r|llllllll}\n",
       "  & 250 & 500 & 750 & 1000 & 1250 & 1500 & 1750 & 2000\\\\\n",
       "\\hline\n",
       "\th2 & 0.39409318  & 0.48275543  & 0.49530993  & 0.49421636  & 0.503485247 & 0.475186166 & 0.486700987 & 0.488379285\\\\\n",
       "\tbias\\_r & 0.52833822  & 0.58944311  & 0.61111354  & 0.61182745  & 0.622132542 & 0.618424812 & 0.626976433 & 0.624117468\\\\\n",
       "\tunbias\\_r & 0.86406294  & 0.85321873  & 0.87114253  & 0.87248771  & 0.878584226 & 0.898380201 & 0.899687342 & 0.893749585\\\\\n",
       "\ttrue\\_r & 0.62894188  & 0.70373449  & 0.73430636  & 0.74158715  & 0.759315193 & 0.770101694 & 0.778576496 & 0.781011573\\\\\n",
       "\th2\\_se & 0.02877272  & 0.01636530  & 0.01320263  & 0.01125664  & 0.009175255 & 0.007015844 & 0.006136757 & 0.006045742\\\\\n",
       "\tbias\\_r\\_se & 0.03245603  & 0.01759253  & 0.01399210  & 0.01049572  & 0.012659899 & 0.009558314 & 0.010785299 & 0.007688411\\\\\n",
       "\tunbias\\_r\\_se & 0.07193673  & 0.03410021  & 0.02620216  & 0.02150464  & 0.023382355 & 0.018977341 & 0.019360734 & 0.014034726\\\\\n",
       "\ttrue\\_r\\_se & 0.02866843  & 0.01660683  & 0.01116019  & 0.00906740  & 0.009448836 & 0.007754231 & 0.006501778 & 0.005628359\\\\\n",
       "\\end{tabular}\n",
       "\n",
       "\\end{description}\n"
      ],
      "text/markdown": [
       "$GBLUP\n",
       ":   \n",
       "| <!--/--> | 250 | 500 | 750 | 1000 | 1250 | 1500 | 1750 | 2000 | \n",
       "|---|---|---|---|---|---|---|---|\n",
       "| h2 | 0.61374649  | 0.66151828  | 0.62638003  | 0.589046184 | 0.590205106 | 0.538965250 | 0.550585342 | 0.553422955 | \n",
       "| bias_r | 0.52615287  | 0.59066718  | 0.61311733  | 0.612229382 | 0.622635211 | 0.618401039 | 0.627044919 | 0.624070602 | \n",
       "| unbias_r | 0.67766917  | 0.72842492  | 0.77611581  | 0.798653743 | 0.811682369 | 0.843208484 | 0.845964760 | 0.839417178 | \n",
       "| true_r | 0.62847095  | 0.70519204  | 0.73593335  | 0.742633087 | 0.759736091 | 0.770348655 | 0.778467888 | 0.781107037 | \n",
       "| h2_se | 0.01914803  | 0.01341505  | 0.01046737  | 0.009032739 | 0.008742087 | 0.007466956 | 0.007552235 | 0.006485728 | \n",
       "| bias_r_se | 0.03272688  | 0.01757305  | 0.01411353  | 0.009910763 | 0.012712881 | 0.009400992 | 0.010754479 | 0.007665713 | \n",
       "| unbias_r_se | 0.04981851  | 0.02700728  | 0.02202480  | 0.016303351 | 0.020552535 | 0.016156245 | 0.017848986 | 0.012572302 | \n",
       "| true_r_se | 0.02895124  | 0.01652853  | 0.01113805  | 0.008747125 | 0.009285673 | 0.007661239 | 0.006509593 | 0.005460806 | \n",
       "\n",
       "\n",
       "\n",
       "$BA\n",
       ":   \n",
       "| <!--/--> | 250 | 500 | 750 | 1000 | 1250 | 1500 | 1750 | 2000 | \n",
       "|---|---|---|---|---|---|---|---|\n",
       "| h2 | 0.45848071  | 0.53472558  | 0.52430267  | 0.501658040 | 0.517084160 | 0.483007638 | 0.494474698 | 0.496579539 | \n",
       "| bias_r | 0.52520301  | 0.58773191  | 0.61102204  | 0.612440348 | 0.621496593 | 0.617813292 | 0.626234201 | 0.624623257 | \n",
       "| unbias_r | 0.78571959  | 0.80683052  | 0.84560657  | 0.866151129 | 0.866027218 | 0.889876082 | 0.891465374 | 0.886844754 | \n",
       "| true_r | 0.62430712  | 0.70215420  | 0.73341234  | 0.742202032 | 0.758133518 | 0.770238227 | 0.778396597 | 0.782160868 | \n",
       "| h2_se | 0.02158919  | 0.01511794  | 0.01019922  | 0.008772201 | 0.008891447 | 0.006558783 | 0.006042465 | 0.004892278 | \n",
       "| bias_r_se | 0.03293448  | 0.01724756  | 0.01426437  | 0.009945088 | 0.012838324 | 0.009369798 | 0.010816990 | 0.007498647 | \n",
       "| unbias_r_se | 0.05770812  | 0.02947043  | 0.02432385  | 0.019272726 | 0.023402813 | 0.017233967 | 0.018999851 | 0.012959324 | \n",
       "| true_r_se | 0.02932096  | 0.01581469  | 0.01144214  | 0.009018296 | 0.009341799 | 0.007764989 | 0.006444779 | 0.005361356 | \n",
       "\n",
       "\n",
       "\n",
       "$BB\n",
       ":   \n",
       "| <!--/--> | 250 | 500 | 750 | 1000 | 1250 | 1500 | 1750 | 2000 | \n",
       "|---|---|---|---|---|---|---|---|\n",
       "| h2 | 0.45318675  | 0.52494109  | 0.51342759  | 0.506887842 | 0.514481595 | 0.485062033 | 0.49632055  | 0.499289137 | \n",
       "| bias_r | 0.52892241  | 0.58410825  | 0.60996580  | 0.609001936 | 0.621037661 | 0.616742284 | 0.62668268  | 0.624899876 | \n",
       "| unbias_r | 0.79480890  | 0.81026968  | 0.85346791  | 0.856666698 | 0.867259292 | 0.886449725 | 0.89051234  | 0.884833191 | \n",
       "| true_r | 0.62860336  | 0.69851765  | 0.73339224  | 0.738896906 | 0.758394600 | 0.770027671 | 0.77908701  | 0.782121158 | \n",
       "| h2_se | 0.01822289  | 0.01531372  | 0.01061755  | 0.007608989 | 0.007910858 | 0.006439136 | 0.00619046  | 0.004880972 | \n",
       "| bias_r_se | 0.03167556  | 0.01809348  | 0.01433612  | 0.010470768 | 0.012815330 | 0.009433192 | 0.01078630  | 0.007341103 | \n",
       "| unbias_r_se | 0.05799226  | 0.03331020  | 0.02590237  | 0.019587356 | 0.022483947 | 0.017255770 | 0.01930866  | 0.012818272 | \n",
       "| true_r_se | 0.02753517  | 0.01719777  | 0.01169891  | 0.008988851 | 0.009336268 | 0.007524399 | 0.00641765  | 0.005075059 | \n",
       "\n",
       "\n",
       "\n",
       "$BC\n",
       ":   \n",
       "| <!--/--> | 250 | 500 | 750 | 1000 | 1250 | 1500 | 1750 | 2000 | \n",
       "|---|---|---|---|---|---|---|---|\n",
       "| h2 | 0.42610377  | 0.51491449  | 0.51869293  | 0.501597354 | 0.513121145 | 0.484889709 | 0.494992054 | 0.497124389 | \n",
       "| bias_r | 0.52729656  | 0.58839373  | 0.61138309  | 0.612144254 | 0.622766636 | 0.617799495 | 0.627053522 | 0.625026579 | \n",
       "| unbias_r | 0.81898467  | 0.82351849  | 0.85093225  | 0.865576961 | 0.870883469 | 0.888097441 | 0.892207859 | 0.886932243 | \n",
       "| true_r | 0.62920738  | 0.70324722  | 0.73435424  | 0.742013520 | 0.759662231 | 0.770416634 | 0.778793539 | 0.782399615 | \n",
       "| h2_se | 0.01797813  | 0.01339821  | 0.01019377  | 0.007696794 | 0.007882710 | 0.006129328 | 0.005954221 | 0.004704548 | \n",
       "| bias_r_se | 0.03211061  | 0.01774271  | 0.01454208  | 0.009927584 | 0.012574004 | 0.009583651 | 0.010784005 | 0.007607574 | \n",
       "| unbias_r_se | 0.06285096  | 0.03233209  | 0.02568238  | 0.018805269 | 0.022569298 | 0.017485633 | 0.019235069 | 0.013168133 | \n",
       "| true_r_se | 0.02923708  | 0.01644892  | 0.01146920  | 0.008682074 | 0.008997645 | 0.007675130 | 0.006541825 | 0.005365917 | \n",
       "\n",
       "\n",
       "\n",
       "$BL\n",
       ":   \n",
       "| <!--/--> | 250 | 500 | 750 | 1000 | 1250 | 1500 | 1750 | 2000 | \n",
       "|---|---|---|---|---|---|---|---|\n",
       "| h2 | 0.39409318  | 0.48275543  | 0.49530993  | 0.49421636  | 0.503485247 | 0.475186166 | 0.486700987 | 0.488379285 | \n",
       "| bias_r | 0.52833822  | 0.58944311  | 0.61111354  | 0.61182745  | 0.622132542 | 0.618424812 | 0.626976433 | 0.624117468 | \n",
       "| unbias_r | 0.86406294  | 0.85321873  | 0.87114253  | 0.87248771  | 0.878584226 | 0.898380201 | 0.899687342 | 0.893749585 | \n",
       "| true_r | 0.62894188  | 0.70373449  | 0.73430636  | 0.74158715  | 0.759315193 | 0.770101694 | 0.778576496 | 0.781011573 | \n",
       "| h2_se | 0.02877272  | 0.01636530  | 0.01320263  | 0.01125664  | 0.009175255 | 0.007015844 | 0.006136757 | 0.006045742 | \n",
       "| bias_r_se | 0.03245603  | 0.01759253  | 0.01399210  | 0.01049572  | 0.012659899 | 0.009558314 | 0.010785299 | 0.007688411 | \n",
       "| unbias_r_se | 0.07193673  | 0.03410021  | 0.02620216  | 0.02150464  | 0.023382355 | 0.018977341 | 0.019360734 | 0.014034726 | \n",
       "| true_r_se | 0.02866843  | 0.01660683  | 0.01116019  | 0.00906740  | 0.009448836 | 0.007754231 | 0.006501778 | 0.005628359 | \n",
       "\n",
       "\n",
       "\n",
       "\n",
       "\n"
      ],
      "text/plain": [
       "$GBLUP\n",
       "                   250        500        750        1000        1250\n",
       "h2          0.61374649 0.66151828 0.62638003 0.589046184 0.590205106\n",
       "bias_r      0.52615287 0.59066718 0.61311733 0.612229382 0.622635211\n",
       "unbias_r    0.67766917 0.72842492 0.77611581 0.798653743 0.811682369\n",
       "true_r      0.62847095 0.70519204 0.73593335 0.742633087 0.759736091\n",
       "h2_se       0.01914803 0.01341505 0.01046737 0.009032739 0.008742087\n",
       "bias_r_se   0.03272688 0.01757305 0.01411353 0.009910763 0.012712881\n",
       "unbias_r_se 0.04981851 0.02700728 0.02202480 0.016303351 0.020552535\n",
       "true_r_se   0.02895124 0.01652853 0.01113805 0.008747125 0.009285673\n",
       "                   1500        1750        2000\n",
       "h2          0.538965250 0.550585342 0.553422955\n",
       "bias_r      0.618401039 0.627044919 0.624070602\n",
       "unbias_r    0.843208484 0.845964760 0.839417178\n",
       "true_r      0.770348655 0.778467888 0.781107037\n",
       "h2_se       0.007466956 0.007552235 0.006485728\n",
       "bias_r_se   0.009400992 0.010754479 0.007665713\n",
       "unbias_r_se 0.016156245 0.017848986 0.012572302\n",
       "true_r_se   0.007661239 0.006509593 0.005460806\n",
       "\n",
       "$BA\n",
       "                   250        500        750        1000        1250\n",
       "h2          0.45848071 0.53472558 0.52430267 0.501658040 0.517084160\n",
       "bias_r      0.52520301 0.58773191 0.61102204 0.612440348 0.621496593\n",
       "unbias_r    0.78571959 0.80683052 0.84560657 0.866151129 0.866027218\n",
       "true_r      0.62430712 0.70215420 0.73341234 0.742202032 0.758133518\n",
       "h2_se       0.02158919 0.01511794 0.01019922 0.008772201 0.008891447\n",
       "bias_r_se   0.03293448 0.01724756 0.01426437 0.009945088 0.012838324\n",
       "unbias_r_se 0.05770812 0.02947043 0.02432385 0.019272726 0.023402813\n",
       "true_r_se   0.02932096 0.01581469 0.01144214 0.009018296 0.009341799\n",
       "                   1500        1750        2000\n",
       "h2          0.483007638 0.494474698 0.496579539\n",
       "bias_r      0.617813292 0.626234201 0.624623257\n",
       "unbias_r    0.889876082 0.891465374 0.886844754\n",
       "true_r      0.770238227 0.778396597 0.782160868\n",
       "h2_se       0.006558783 0.006042465 0.004892278\n",
       "bias_r_se   0.009369798 0.010816990 0.007498647\n",
       "unbias_r_se 0.017233967 0.018999851 0.012959324\n",
       "true_r_se   0.007764989 0.006444779 0.005361356\n",
       "\n",
       "$BB\n",
       "                   250        500        750        1000        1250\n",
       "h2          0.45318675 0.52494109 0.51342759 0.506887842 0.514481595\n",
       "bias_r      0.52892241 0.58410825 0.60996580 0.609001936 0.621037661\n",
       "unbias_r    0.79480890 0.81026968 0.85346791 0.856666698 0.867259292\n",
       "true_r      0.62860336 0.69851765 0.73339224 0.738896906 0.758394600\n",
       "h2_se       0.01822289 0.01531372 0.01061755 0.007608989 0.007910858\n",
       "bias_r_se   0.03167556 0.01809348 0.01433612 0.010470768 0.012815330\n",
       "unbias_r_se 0.05799226 0.03331020 0.02590237 0.019587356 0.022483947\n",
       "true_r_se   0.02753517 0.01719777 0.01169891 0.008988851 0.009336268\n",
       "                   1500       1750        2000\n",
       "h2          0.485062033 0.49632055 0.499289137\n",
       "bias_r      0.616742284 0.62668268 0.624899876\n",
       "unbias_r    0.886449725 0.89051234 0.884833191\n",
       "true_r      0.770027671 0.77908701 0.782121158\n",
       "h2_se       0.006439136 0.00619046 0.004880972\n",
       "bias_r_se   0.009433192 0.01078630 0.007341103\n",
       "unbias_r_se 0.017255770 0.01930866 0.012818272\n",
       "true_r_se   0.007524399 0.00641765 0.005075059\n",
       "\n",
       "$BC\n",
       "                   250        500        750        1000        1250\n",
       "h2          0.42610377 0.51491449 0.51869293 0.501597354 0.513121145\n",
       "bias_r      0.52729656 0.58839373 0.61138309 0.612144254 0.622766636\n",
       "unbias_r    0.81898467 0.82351849 0.85093225 0.865576961 0.870883469\n",
       "true_r      0.62920738 0.70324722 0.73435424 0.742013520 0.759662231\n",
       "h2_se       0.01797813 0.01339821 0.01019377 0.007696794 0.007882710\n",
       "bias_r_se   0.03211061 0.01774271 0.01454208 0.009927584 0.012574004\n",
       "unbias_r_se 0.06285096 0.03233209 0.02568238 0.018805269 0.022569298\n",
       "true_r_se   0.02923708 0.01644892 0.01146920 0.008682074 0.008997645\n",
       "                   1500        1750        2000\n",
       "h2          0.484889709 0.494992054 0.497124389\n",
       "bias_r      0.617799495 0.627053522 0.625026579\n",
       "unbias_r    0.888097441 0.892207859 0.886932243\n",
       "true_r      0.770416634 0.778793539 0.782399615\n",
       "h2_se       0.006129328 0.005954221 0.004704548\n",
       "bias_r_se   0.009583651 0.010784005 0.007607574\n",
       "unbias_r_se 0.017485633 0.019235069 0.013168133\n",
       "true_r_se   0.007675130 0.006541825 0.005365917\n",
       "\n",
       "$BL\n",
       "                   250        500        750       1000        1250        1500\n",
       "h2          0.39409318 0.48275543 0.49530993 0.49421636 0.503485247 0.475186166\n",
       "bias_r      0.52833822 0.58944311 0.61111354 0.61182745 0.622132542 0.618424812\n",
       "unbias_r    0.86406294 0.85321873 0.87114253 0.87248771 0.878584226 0.898380201\n",
       "true_r      0.62894188 0.70373449 0.73430636 0.74158715 0.759315193 0.770101694\n",
       "h2_se       0.02877272 0.01636530 0.01320263 0.01125664 0.009175255 0.007015844\n",
       "bias_r_se   0.03245603 0.01759253 0.01399210 0.01049572 0.012659899 0.009558314\n",
       "unbias_r_se 0.07193673 0.03410021 0.02620216 0.02150464 0.023382355 0.018977341\n",
       "true_r_se   0.02866843 0.01660683 0.01116019 0.00906740 0.009448836 0.007754231\n",
       "                   1750        2000\n",
       "h2          0.486700987 0.488379285\n",
       "bias_r      0.626976433 0.624117468\n",
       "unbias_r    0.899687342 0.893749585\n",
       "true_r      0.778576496 0.781011573\n",
       "h2_se       0.006136757 0.006045742\n",
       "bias_r_se   0.010785299 0.007688411\n",
       "unbias_r_se 0.019360734 0.014034726\n",
       "true_r_se   0.006501778 0.005628359\n"
      ]
     },
     "metadata": {},
     "output_type": "display_data"
    }
   ],
   "source": [
    "(sum<-list(GBLUP=all_acc,\n",
    "                BA=all_accBA,\n",
    "                BB=all_accBB,\n",
    "                BC=all_accBC,\n",
    "                BL=all_accBL))"
   ]
  },
  {
   "cell_type": "code",
   "execution_count": 71,
   "metadata": {},
   "outputs": [],
   "source": [
    "#save to xlsx file\n",
    "library(\"xlsx\")\n",
    "write.xlsx(sum, \"2_3_result.xlsx\") "
   ]
  },
  {
   "cell_type": "code",
   "execution_count": 76,
   "metadata": {},
   "outputs": [],
   "source": [
    "library(\"readxl\")\n",
    "plot<-read_excel(\"2_3_result.xlsx\")"
   ]
  },
  {
   "cell_type": "code",
   "execution_count": null,
   "metadata": {},
   "outputs": [],
   "source": []
  }
 ],
 "metadata": {
  "kernelspec": {
   "display_name": "R",
   "language": "R",
   "name": "ir"
  },
  "language_info": {
   "codemirror_mode": "r",
   "file_extension": ".r",
   "mimetype": "text/x-r-source",
   "name": "R",
   "pygments_lexer": "r",
   "version": "3.5.1"
  }
 },
 "nbformat": 4,
 "nbformat_minor": 2
}
